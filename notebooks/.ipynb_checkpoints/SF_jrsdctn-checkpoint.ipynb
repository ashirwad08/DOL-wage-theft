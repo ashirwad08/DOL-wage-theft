{
 "cells": [
  {
   "cell_type": "markdown",
   "metadata": {},
   "source": [
    "# Exploring Wage Theft Data (SF Jurisdiction Only)\n",
    "\n",
    "In this exploration, I'm using the dataset put together by Michael Eastman - Asst. District Director of the DOL WHD, San Francisco. This dataset is an aggregate of minimum wage violations, employees affected, penalties assessed. Furthermore, Michael has also merged industry group specific numbers (at the 3 digit NAICS level) such as number of establishments, average weekly pay and size of the employee workforce."
   ]
  },
  {
   "cell_type": "code",
   "execution_count": 1,
   "metadata": {
    "collapsed": true
   },
   "outputs": [],
   "source": [
    "import csv\n",
    "import pandas as pd\n",
    "import numpy as np\n",
    "from datetime import datetime\n",
    "import matplotlib.pyplot as plt\n",
    "import requests\n",
    "import json\n",
    "import seaborn as sbrn\n",
    "import urllib2\n",
    "import re\n",
    "import pickle\n",
    "from sklearn.cluster import k_means\n",
    "import scipy.spatial as sp\n",
    "%matplotlib inline"
   ]
  },
  {
   "cell_type": "markdown",
   "metadata": {},
   "source": [
    "Use the San Francisco District Office jurisdiction dataset"
   ]
  },
  {
   "cell_type": "code",
   "execution_count": 2,
   "metadata": {
    "collapsed": true
   },
   "outputs": [],
   "source": [
    "sf_vltns = pd.read_excel('/Users/ash/Downloads/SanFranciscoDistrictDOLCasesAndEmploymentCensus.xlsx')\n"
   ]
  },
  {
   "cell_type": "markdown",
   "metadata": {
    "collapsed": false
   },
   "source": [
    "Here's a sample of the dataset."
   ]
  },
  {
   "cell_type": "code",
   "execution_count": 6,
   "metadata": {
    "collapsed": false
   },
   "outputs": [
    {
     "data": {
      "text/html": [
       "<div>\n",
       "<table border=\"1\" class=\"dataframe\">\n",
       "  <thead>\n",
       "    <tr style=\"text-align: right;\">\n",
       "      <th></th>\n",
       "      <th>Industry</th>\n",
       "      <th>NAICS3</th>\n",
       "      <th>NAICS Code</th>\n",
       "      <th>Number of Cases</th>\n",
       "      <th>EEs Employed in Violation</th>\n",
       "      <th>Minimum Wage Backwages</th>\n",
       "      <th>Backwages</th>\n",
       "      <th>Minimum Wage Backwages per Employee</th>\n",
       "      <th>Backwages per Employee</th>\n",
       "      <th>Penalty Assessed</th>\n",
       "      <th>Employees in Industry</th>\n",
       "      <th>Avg Weekly Pay</th>\n",
       "      <th>Establishments in Industry</th>\n",
       "    </tr>\n",
       "  </thead>\n",
       "  <tbody>\n",
       "    <tr>\n",
       "      <th>19</th>\n",
       "      <td>Publishing Industries (except Internet)</td>\n",
       "      <td>511</td>\n",
       "      <td>51</td>\n",
       "      <td>5</td>\n",
       "      <td>71</td>\n",
       "      <td>28654.88</td>\n",
       "      <td>215358.54</td>\n",
       "      <td>819</td>\n",
       "      <td>3723.0</td>\n",
       "      <td>0.0</td>\n",
       "      <td>75224.0</td>\n",
       "      <td>1525.0</td>\n",
       "      <td>1470.0</td>\n",
       "    </tr>\n",
       "    <tr>\n",
       "      <th>94</th>\n",
       "      <td>State and Local Government</td>\n",
       "      <td>911</td>\n",
       "      <td>91</td>\n",
       "      <td>1</td>\n",
       "      <td>1</td>\n",
       "      <td>0.00</td>\n",
       "      <td>5091.23</td>\n",
       "      <td>0</td>\n",
       "      <td>5091.0</td>\n",
       "      <td>0.0</td>\n",
       "      <td>NaN</td>\n",
       "      <td>NaN</td>\n",
       "      <td>NaN</td>\n",
       "    </tr>\n",
       "    <tr>\n",
       "      <th>54</th>\n",
       "      <td>Air Transportation</td>\n",
       "      <td>481</td>\n",
       "      <td>48</td>\n",
       "      <td>1</td>\n",
       "      <td>5</td>\n",
       "      <td>507.50</td>\n",
       "      <td>507.50</td>\n",
       "      <td>102</td>\n",
       "      <td>102.0</td>\n",
       "      <td>0.0</td>\n",
       "      <td>17270.0</td>\n",
       "      <td>374.0</td>\n",
       "      <td>119.0</td>\n",
       "    </tr>\n",
       "    <tr>\n",
       "      <th>58</th>\n",
       "      <td>Hospitals</td>\n",
       "      <td>622</td>\n",
       "      <td>62</td>\n",
       "      <td>10</td>\n",
       "      <td>253</td>\n",
       "      <td>157.20</td>\n",
       "      <td>149867.78</td>\n",
       "      <td>16</td>\n",
       "      <td>1737.9</td>\n",
       "      <td>0.0</td>\n",
       "      <td>106545.0</td>\n",
       "      <td>982.0</td>\n",
       "      <td>114.0</td>\n",
       "    </tr>\n",
       "    <tr>\n",
       "      <th>33</th>\n",
       "      <td>Broadcasting (except Internet)</td>\n",
       "      <td>515</td>\n",
       "      <td>51</td>\n",
       "      <td>2</td>\n",
       "      <td>27</td>\n",
       "      <td>8888.50</td>\n",
       "      <td>26147.45</td>\n",
       "      <td>635</td>\n",
       "      <td>1066.5</td>\n",
       "      <td>0.0</td>\n",
       "      <td>4609.0</td>\n",
       "      <td>679.0</td>\n",
       "      <td>200.0</td>\n",
       "    </tr>\n",
       "  </tbody>\n",
       "</table>\n",
       "</div>"
      ],
      "text/plain": [
       "                                   Industry  NAICS3  NAICS Code  \\\n",
       "19  Publishing Industries (except Internet)     511          51   \n",
       "94               State and Local Government     911          91   \n",
       "54                       Air Transportation     481          48   \n",
       "58                                Hospitals     622          62   \n",
       "33           Broadcasting (except Internet)     515          51   \n",
       "\n",
       "    Number of Cases  EEs Employed in Violation  Minimum Wage Backwages  \\\n",
       "19                5                         71                28654.88   \n",
       "94                1                          1                    0.00   \n",
       "54                1                          5                  507.50   \n",
       "58               10                        253                  157.20   \n",
       "33                2                         27                 8888.50   \n",
       "\n",
       "    Backwages  Minimum Wage Backwages per Employee  Backwages per Employee  \\\n",
       "19  215358.54                                  819                  3723.0   \n",
       "94    5091.23                                    0                  5091.0   \n",
       "54     507.50                                  102                   102.0   \n",
       "58  149867.78                                   16                  1737.9   \n",
       "33   26147.45                                  635                  1066.5   \n",
       "\n",
       "    Penalty Assessed  Employees in Industry  Avg Weekly Pay  \\\n",
       "19               0.0                75224.0          1525.0   \n",
       "94               0.0                    NaN             NaN   \n",
       "54               0.0                17270.0           374.0   \n",
       "58               0.0               106545.0           982.0   \n",
       "33               0.0                 4609.0           679.0   \n",
       "\n",
       "    Establishments in Industry  \n",
       "19                      1470.0  \n",
       "94                         NaN  \n",
       "54                       119.0  \n",
       "58                       114.0  \n",
       "33                       200.0  "
      ]
     },
     "execution_count": 6,
     "metadata": {},
     "output_type": "execute_result"
    }
   ],
   "source": [
    "sf_vltns.sample(5)"
   ]
  },
  {
   "cell_type": "markdown",
   "metadata": {},
   "source": [
    "# Severity of Violations  \n",
    "In order to get a sense of the severity of wage violations - specifically those pertaining to minimum wage - and with the data at hand, we compare the Minimum Wage Backwages owed per e..."
   ]
  },
  {
   "cell_type": "code",
   "execution_count": 4,
   "metadata": {
    "collapsed": true
   },
   "outputs": [],
   "source": [
    "sf_vltns['MW_Severity'] = sf_vltns['Minimum Wage Backwages per Employee'] / sf_vltns['Establishments in Industry']\n"
   ]
  },
  {
   "cell_type": "code",
   "execution_count": 5,
   "metadata": {
    "collapsed": true
   },
   "outputs": [],
   "source": [
    "sf_vltns['Emp_AffectedRate'] = sf_vltns['EEs Employed in Violation'] / sf_vltns['Employees in Industry']\n"
   ]
  },
  {
   "cell_type": "code",
   "execution_count": 6,
   "metadata": {
    "collapsed": true
   },
   "outputs": [],
   "source": [
    "sf_vltns['Reported_Rate'] = sf_vltns['Number of Cases'] / np.sum(sf_vltns['Number of Cases'])\n"
   ]
  },
  {
   "cell_type": "code",
   "execution_count": 61,
   "metadata": {
    "collapsed": false
   },
   "outputs": [
    {
     "data": {
      "text/plain": [
       "Industry                                0\n",
       "NAICS3                                  0\n",
       "NAICS Code                              0\n",
       "Number of Cases                         0\n",
       "EEs Employed in Violation               0\n",
       "Minimum Wage Backwages                  0\n",
       "Backwages                               0\n",
       "Minimum Wage Backwages per Employee     0\n",
       "Backwages per Employee                  0\n",
       "Penalty Assessed                        0\n",
       "Employees in Industry                  20\n",
       "Avg Weekly Pay                         20\n",
       "Establishments in Industry             20\n",
       "MW_Severity                            20\n",
       "Emp_AffectedRate                       20\n",
       "Reported_Rate                           0\n",
       "dtype: int64"
      ]
     },
     "execution_count": 61,
     "metadata": {},
     "output_type": "execute_result"
    }
   ],
   "source": [
    "sf_vltns.isnull().sum()\n"
   ]
  },
  {
   "cell_type": "code",
   "execution_count": 52,
   "metadata": {
    "collapsed": false
   },
   "outputs": [],
   "source": [
    "simMat = sf_vltns.iloc[:,-3:]\n"
   ]
  },
  {
   "cell_type": "code",
   "execution_count": 53,
   "metadata": {
    "collapsed": false
   },
   "outputs": [],
   "source": [
    "#get pairwise similarity (use manhattan because I want indsutries that might be similar on a subset of features)\n",
    "simMat=np.matrix(simMat)\n"
   ]
  },
  {
   "cell_type": "code",
   "execution_count": 44,
   "metadata": {
    "collapsed": true
   },
   "outputs": [],
   "source": [
    "#simMat /= simMat.std(axis=0)\n"
   ]
  },
  {
   "cell_type": "code",
   "execution_count": 54,
   "metadata": {
    "collapsed": false
   },
   "outputs": [],
   "source": [
    "distMat = sp.distance.pdist(simMat, 'cosine')\n"
   ]
  },
  {
   "cell_type": "code",
   "execution_count": 55,
   "metadata": {
    "collapsed": false
   },
   "outputs": [
    {
     "data": {
      "text/plain": [
       "array([[ 0.        ,  0.54410454,  0.01881966, ...,         nan,\n",
       "                nan,         nan],\n",
       "       [ 0.54410454,  0.        ,  0.72446623, ...,         nan,\n",
       "                nan,         nan],\n",
       "       [ 0.01881966,  0.72446623,  0.        , ...,         nan,\n",
       "                nan,         nan],\n",
       "       ..., \n",
       "       [        nan,         nan,         nan, ...,  0.        ,\n",
       "                nan,         nan],\n",
       "       [        nan,         nan,         nan, ...,         nan,\n",
       "         0.        ,         nan],\n",
       "       [        nan,         nan,         nan, ...,         nan,\n",
       "                nan,  0.        ]])"
      ]
     },
     "execution_count": 55,
     "metadata": {},
     "output_type": "execute_result"
    }
   ],
   "source": [
    "sp.distance.squareform(distMat)\n"
   ]
  },
  {
   "cell_type": "code",
   "execution_count": 57,
   "metadata": {
    "collapsed": false
   },
   "outputs": [
    {
     "data": {
      "text/plain": [
       "array([  0.00000000e+00,   5.44104537e-01,   1.88196571e-02,\n",
       "         2.72218270e-02,   2.33586143e-02,   5.99061028e-01,\n",
       "         6.99719199e-03,   4.63324904e-01,   2.81658754e-02,\n",
       "         2.37491009e-02,   8.51906592e-04,   2.78574627e-02,\n",
       "         3.90608759e-01,   2.68428561e-02,   1.59037980e-01,\n",
       "         7.03192528e-01,   1.71130814e-01,   2.37790529e-02,\n",
       "                    nan,   2.65344392e-02,   2.77085369e-02,\n",
       "         2.26558729e-02,   2.23659733e-02,   1.51371125e-02,\n",
       "         5.03080550e-03,   2.69423464e-02,   1.50567834e-02,\n",
       "         6.67022108e-01,   7.82595115e-03,   7.99811623e-02,\n",
       "         2.75205318e-02,   4.90065853e-04,   2.62407720e-02,\n",
       "         2.78597812e-02,   2.80025518e-02,   1.28299950e-02,\n",
       "         2.80085078e-02,              nan,              nan,\n",
       "         2.72444991e-02,   2.61669548e-02,   9.61667578e-03,\n",
       "                    nan,              nan,              nan,\n",
       "         1.53931213e-02,   2.24596791e-01,   2.49392284e-02,\n",
       "                    nan,   4.84338274e-02,   2.12084368e-02,\n",
       "         2.68156695e-02,   2.62790880e-02,   2.39657141e-02,\n",
       "         2.78399259e-02,   2.79407791e-02,              nan,\n",
       "         2.74403312e-01,   1.71071498e-02,              nan,\n",
       "         2.01630583e-02,              nan,   7.94117518e-01,\n",
       "         7.66589099e-01,   8.61318328e-01,   9.10049733e-01,\n",
       "         9.32522026e-01,              nan,   9.38798640e-01,\n",
       "         9.49712297e-01,   7.64838188e-01,              nan,\n",
       "                    nan,   8.25154893e-01,              nan,\n",
       "         9.21377989e-01,   9.50995457e-01,   7.66704999e-01,\n",
       "         9.54302648e-01,   8.97013830e-01,   9.38518466e-01,\n",
       "         7.64871579e-01,   8.43970789e-01,              nan,\n",
       "                    nan,   7.65086294e-01,   7.79509985e-01,\n",
       "                    nan,   8.82159154e-01,   8.63749843e-01,\n",
       "         9.47313724e-01,              nan,              nan,\n",
       "                    nan,              nan])"
      ]
     },
     "execution_count": 57,
     "metadata": {},
     "output_type": "execute_result"
    }
   ],
   "source": [
    "sp.distance.squareform(distMat)[0]"
   ]
  },
  {
   "cell_type": "code",
   "execution_count": null,
   "metadata": {
    "collapsed": true
   },
   "outputs": [],
   "source": []
  }
 ],
 "metadata": {
  "kernelspec": {
   "display_name": "Python 2",
   "language": "python",
   "name": "python2"
  },
  "language_info": {
   "codemirror_mode": {
    "name": "ipython",
    "version": 2
   },
   "file_extension": ".py",
   "mimetype": "text/x-python",
   "name": "python",
   "nbconvert_exporter": "python",
   "pygments_lexer": "ipython2",
   "version": "2.7.11"
  }
 },
 "nbformat": 4,
 "nbformat_minor": 0
}
