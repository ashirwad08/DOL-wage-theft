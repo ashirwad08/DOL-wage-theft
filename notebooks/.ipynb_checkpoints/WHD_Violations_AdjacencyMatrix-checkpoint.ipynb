{
 "cells": [
  {
   "cell_type": "code",
   "execution_count": 1,
   "metadata": {
    "collapsed": true
   },
   "outputs": [],
   "source": [
    "import csv\n",
    "import pandas as pd\n",
    "import numpy as np\n",
    "from datetime import datetime\n",
    "import matplotlib.pyplot as plt\n",
    "import requests\n",
    "import json\n",
    "import seaborn as sbrn\n",
    "import urllib2\n",
    "import re\n",
    "import pickle\n",
    "from sklearn.cluster import k_means\n",
    "import scipy.spatial as sp\n",
    "%matplotlib inline"
   ]
  },
  {
   "cell_type": "markdown",
   "metadata": {},
   "source": [
    "First, read in the main DOL WHD dataset:  \n",
    "- Create violation type reference to violation group  \n",
    "- Extract 3 digit NAICS  \n",
    "- Merge MSA information by Zip  \n",
    "- We have SUSB at the MSA level; get those files \n",
    "- Rollup whd stats to MSA level  \n",
    "- Merge SUSB numbers at MSA level  \n",
    "\n",
    "We now have violation dataset with SUSB employment numbers at MSA level.  "
   ]
  },
  {
   "cell_type": "markdown",
   "metadata": {},
   "source": [
    "\n",
    "already done this \"for the counties that are within the **jurisdiction of the San Francisco District Office** (Del Norte, Humboldt, Mendocino, Sonoma, Napa, Marin, Contra Costa, Alameda, San Francisco, Santa Clara, Santa Cruz, Monterey, and San Benito).\"  \n",
    "\n",
    "Let's first perform the similarity based on this."
   ]
  },
  {
   "cell_type": "code",
   "execution_count": 5,
   "metadata": {
    "collapsed": true
   },
   "outputs": [],
   "source": [
    "sf_whd_cbp = pd.read_excel('/Users/ash/Downloads/SanFranciscoDistrictDOLCasesAndEmploymentCensus.xlsx')"
   ]
  },
  {
   "cell_type": "code",
   "execution_count": 304,
   "metadata": {
    "collapsed": false
   },
   "outputs": [
    {
     "data": {
      "text/html": [
       "<div>\n",
       "<table border=\"1\" class=\"dataframe\">\n",
       "  <thead>\n",
       "    <tr style=\"text-align: right;\">\n",
       "      <th></th>\n",
       "      <th>Industry</th>\n",
       "      <th>NAICS3</th>\n",
       "      <th>NAICS Code</th>\n",
       "      <th>Number of Cases</th>\n",
       "      <th>EEs Employed in Violation</th>\n",
       "      <th>Minimum Wage Backwages</th>\n",
       "      <th>Backwages</th>\n",
       "      <th>Minimum Wage Backwages per Employee</th>\n",
       "      <th>Backwages per Employee</th>\n",
       "      <th>Penalty Assessed</th>\n",
       "      <th>Employees in Industry</th>\n",
       "      <th>Avg Weekly Pay</th>\n",
       "      <th>Establishments in Industry</th>\n",
       "    </tr>\n",
       "  </thead>\n",
       "  <tbody>\n",
       "    <tr>\n",
       "      <th>33</th>\n",
       "      <td>Broadcasting (except Internet)</td>\n",
       "      <td>515</td>\n",
       "      <td>51</td>\n",
       "      <td>2</td>\n",
       "      <td>27</td>\n",
       "      <td>8888.50</td>\n",
       "      <td>26147.45</td>\n",
       "      <td>635</td>\n",
       "      <td>1066.50</td>\n",
       "      <td>0.0</td>\n",
       "      <td>4609.0</td>\n",
       "      <td>679.0</td>\n",
       "      <td>200.0</td>\n",
       "    </tr>\n",
       "    <tr>\n",
       "      <th>23</th>\n",
       "      <td>Health and Personal Care Stores</td>\n",
       "      <td>446</td>\n",
       "      <td>44</td>\n",
       "      <td>12</td>\n",
       "      <td>37</td>\n",
       "      <td>21680.08</td>\n",
       "      <td>200514.83</td>\n",
       "      <td>278</td>\n",
       "      <td>3616.00</td>\n",
       "      <td>27648.5</td>\n",
       "      <td>24237.0</td>\n",
       "      <td>680.0</td>\n",
       "      <td>2055.0</td>\n",
       "    </tr>\n",
       "    <tr>\n",
       "      <th>54</th>\n",
       "      <td>Air Transportation</td>\n",
       "      <td>481</td>\n",
       "      <td>48</td>\n",
       "      <td>1</td>\n",
       "      <td>5</td>\n",
       "      <td>507.50</td>\n",
       "      <td>507.50</td>\n",
       "      <td>102</td>\n",
       "      <td>102.00</td>\n",
       "      <td>0.0</td>\n",
       "      <td>17270.0</td>\n",
       "      <td>374.0</td>\n",
       "      <td>119.0</td>\n",
       "    </tr>\n",
       "    <tr>\n",
       "      <th>40</th>\n",
       "      <td>Securities, Commodity Contracts, and Other Fin...</td>\n",
       "      <td>523</td>\n",
       "      <td>52</td>\n",
       "      <td>3</td>\n",
       "      <td>20</td>\n",
       "      <td>3144.00</td>\n",
       "      <td>36533.79</td>\n",
       "      <td>1048</td>\n",
       "      <td>3265.33</td>\n",
       "      <td>0.0</td>\n",
       "      <td>33147.0</td>\n",
       "      <td>2951.0</td>\n",
       "      <td>3899.0</td>\n",
       "    </tr>\n",
       "    <tr>\n",
       "      <th>3</th>\n",
       "      <td>Couriers and Messengers</td>\n",
       "      <td>492</td>\n",
       "      <td>49</td>\n",
       "      <td>4</td>\n",
       "      <td>421</td>\n",
       "      <td>496094.71</td>\n",
       "      <td>2041812.82</td>\n",
       "      <td>834</td>\n",
       "      <td>3437.75</td>\n",
       "      <td>0.0</td>\n",
       "      <td>14536.0</td>\n",
       "      <td>534.0</td>\n",
       "      <td>387.0</td>\n",
       "    </tr>\n",
       "  </tbody>\n",
       "</table>\n",
       "</div>"
      ],
      "text/plain": [
       "                                             Industry  NAICS3  NAICS Code  \\\n",
       "33                     Broadcasting (except Internet)     515          51   \n",
       "23                   Health and Personal Care Stores      446          44   \n",
       "54                                 Air Transportation     481          48   \n",
       "40  Securities, Commodity Contracts, and Other Fin...     523          52   \n",
       "3                             Couriers and Messengers     492          49   \n",
       "\n",
       "    Number of Cases  EEs Employed in Violation  Minimum Wage Backwages  \\\n",
       "33                2                         27                 8888.50   \n",
       "23               12                         37                21680.08   \n",
       "54                1                          5                  507.50   \n",
       "40                3                         20                 3144.00   \n",
       "3                 4                        421               496094.71   \n",
       "\n",
       "     Backwages  Minimum Wage Backwages per Employee  Backwages per Employee  \\\n",
       "33    26147.45                                  635                 1066.50   \n",
       "23   200514.83                                  278                 3616.00   \n",
       "54      507.50                                  102                  102.00   \n",
       "40    36533.79                                 1048                 3265.33   \n",
       "3   2041812.82                                  834                 3437.75   \n",
       "\n",
       "    Penalty Assessed  Employees in Industry  Avg Weekly Pay  \\\n",
       "33               0.0                 4609.0           679.0   \n",
       "23           27648.5                24237.0           680.0   \n",
       "54               0.0                17270.0           374.0   \n",
       "40               0.0                33147.0          2951.0   \n",
       "3                0.0                14536.0           534.0   \n",
       "\n",
       "    Establishments in Industry  \n",
       "33                       200.0  \n",
       "23                      2055.0  \n",
       "54                       119.0  \n",
       "40                      3899.0  \n",
       "3                        387.0  "
      ]
     },
     "execution_count": 304,
     "metadata": {},
     "output_type": "execute_result"
    }
   ],
   "source": [
    "sf_whd_cbp.sample(5)"
   ]
  },
  {
   "cell_type": "code",
   "execution_count": 8,
   "metadata": {
    "collapsed": false
   },
   "outputs": [
    {
     "data": {
      "text/plain": [
       "Industry                                0\n",
       "NAICS3                                  0\n",
       "NAICS Code                              0\n",
       "Number of Cases                         0\n",
       "EEs Employed in Violation               0\n",
       "Minimum Wage Backwages                  0\n",
       "Backwages                               0\n",
       "Minimum Wage Backwages per Employee     0\n",
       "Backwages per Employee                  0\n",
       "Penalty Assessed                        0\n",
       "Employees in Industry                  20\n",
       "Avg Weekly Pay                         20\n",
       "Establishments in Industry             20\n",
       "dtype: int64"
      ]
     },
     "execution_count": 8,
     "metadata": {},
     "output_type": "execute_result"
    }
   ],
   "source": [
    "sf_whd_cbp.isnull().sum()"
   ]
  },
  {
   "cell_type": "code",
   "execution_count": 227,
   "metadata": {
    "collapsed": false
   },
   "outputs": [],
   "source": [
    "sf_whd_cbp_nonull=sf_whd_cbp[~sf_whd_cbp['Employees in Industry'].isnull()]"
   ]
  },
  {
   "cell_type": "code",
   "execution_count": 228,
   "metadata": {
    "collapsed": false
   },
   "outputs": [
    {
     "name": "stderr",
     "output_type": "stream",
     "text": [
      "/Users/ash/anaconda/lib/python2.7/site-packages/ipykernel/__main__.py:1: SettingWithCopyWarning: \n",
      "A value is trying to be set on a copy of a slice from a DataFrame.\n",
      "Try using .loc[row_indexer,col_indexer] = value instead\n",
      "\n",
      "See the caveats in the documentation: http://pandas.pydata.org/pandas-docs/stable/indexing.html#indexing-view-versus-copy\n",
      "  if __name__ == '__main__':\n",
      "/Users/ash/anaconda/lib/python2.7/site-packages/ipykernel/__main__.py:2: SettingWithCopyWarning: \n",
      "A value is trying to be set on a copy of a slice from a DataFrame.\n",
      "Try using .loc[row_indexer,col_indexer] = value instead\n",
      "\n",
      "See the caveats in the documentation: http://pandas.pydata.org/pandas-docs/stable/indexing.html#indexing-view-versus-copy\n",
      "  from ipykernel import kernelapp as app\n",
      "/Users/ash/anaconda/lib/python2.7/site-packages/ipykernel/__main__.py:3: SettingWithCopyWarning: \n",
      "A value is trying to be set on a copy of a slice from a DataFrame.\n",
      "Try using .loc[row_indexer,col_indexer] = value instead\n",
      "\n",
      "See the caveats in the documentation: http://pandas.pydata.org/pandas-docs/stable/indexing.html#indexing-view-versus-copy\n",
      "  app.launch_new_instance()\n"
     ]
    }
   ],
   "source": [
    "sf_whd_cbp_nonull['MW_Severity'] = sf_whd_cbp_nonull['Minimum Wage Backwages'] * sf_whd_cbp_nonull['EEs Employed in Violation'] / sf_whd_cbp_nonull['Employees in Industry']\n",
    "sf_whd_cbp_nonull['Affected_Rate'] = sf_whd_cbp_nonull['Number of Cases'] / sf_whd_cbp_nonull['Employees in Industry']\n",
    "sf_whd_cbp_nonull['Other_W_Similarity'] = sf_whd_cbp_nonull['Backwages'] * sf_whd_cbp_nonull['EEs Employed in Violation'] / sf_whd_cbp_nonull['Employees in Industry']\n"
   ]
  },
  {
   "cell_type": "code",
   "execution_count": 229,
   "metadata": {
    "collapsed": false
   },
   "outputs": [
    {
     "name": "stderr",
     "output_type": "stream",
     "text": [
      "/Users/ash/anaconda/lib/python2.7/site-packages/ipykernel/__main__.py:1: SettingWithCopyWarning: \n",
      "A value is trying to be set on a copy of a slice from a DataFrame\n",
      "\n",
      "See the caveats in the documentation: http://pandas.pydata.org/pandas-docs/stable/indexing.html#indexing-view-versus-copy\n",
      "  if __name__ == '__main__':\n"
     ]
    }
   ],
   "source": [
    "sf_whd_cbp_nonull.dropna(axis=0,inplace=True)"
   ]
  },
  {
   "cell_type": "code",
   "execution_count": 230,
   "metadata": {
    "collapsed": false
   },
   "outputs": [
    {
     "data": {
      "text/plain": [
       "Industry                               0\n",
       "NAICS3                                 0\n",
       "NAICS Code                             0\n",
       "Number of Cases                        0\n",
       "EEs Employed in Violation              0\n",
       "Minimum Wage Backwages                 0\n",
       "Backwages                              0\n",
       "Minimum Wage Backwages per Employee    0\n",
       "Backwages per Employee                 0\n",
       "Penalty Assessed                       0\n",
       "Employees in Industry                  0\n",
       "Avg Weekly Pay                         0\n",
       "Establishments in Industry             0\n",
       "MW_Severity                            0\n",
       "Affected_Rate                          0\n",
       "Other_W_Similarity                     0\n",
       "dtype: int64"
      ]
     },
     "execution_count": 230,
     "metadata": {},
     "output_type": "execute_result"
    }
   ],
   "source": [
    "sf_whd_cbp_nonull.isnull().sum()"
   ]
  },
  {
   "cell_type": "code",
   "execution_count": 9,
   "metadata": {
    "collapsed": true
   },
   "outputs": [],
   "source": [
    "similarity_cols = ['Number of Cases', 'EEs Employed in Violation', 'Minimum Wage Backwages', 'Backwages',\n",
    "                  'Minimum Wage Backwages per Employee', 'Backwages per Employee', 'Penalty Assessed', \n",
    "                   'Employees in Industry', 'Avg Weekly Pay', 'Establishments in Industry']"
   ]
  },
  {
   "cell_type": "code",
   "execution_count": 330,
   "metadata": {
    "collapsed": true
   },
   "outputs": [],
   "source": [
    "similarity_summ_cols = ['MW_Severity','Affected_Rate','Other_W_Similarity']"
   ]
  },
  {
   "cell_type": "code",
   "execution_count": 331,
   "metadata": {
    "collapsed": false
   },
   "outputs": [],
   "source": [
    "mat = np.matrix(sf_whd_cbp_nonull[similarity_summ_cols])"
   ]
  },
  {
   "cell_type": "code",
   "execution_count": 332,
   "metadata": {
    "collapsed": false
   },
   "outputs": [
    {
     "data": {
      "text/plain": [
       "(74, 3)"
      ]
     },
     "execution_count": 332,
     "metadata": {},
     "output_type": "execute_result"
    }
   ],
   "source": [
    "mat.shape"
   ]
  },
  {
   "cell_type": "code",
   "execution_count": 333,
   "metadata": {
    "collapsed": true
   },
   "outputs": [],
   "source": [
    "from sklearn.preprocessing import normalize"
   ]
  },
  {
   "cell_type": "code",
   "execution_count": 334,
   "metadata": {
    "collapsed": false
   },
   "outputs": [],
   "source": [
    "mat_norm = normalize(mat, axis=0)"
   ]
  },
  {
   "cell_type": "code",
   "execution_count": 236,
   "metadata": {
    "collapsed": true
   },
   "outputs": [],
   "source": [
    "#similarity\n",
    "from scipy.spatial import distance"
   ]
  },
  {
   "cell_type": "code",
   "execution_count": 360,
   "metadata": {
    "collapsed": true
   },
   "outputs": [],
   "source": [
    "sq_mat = distance.squareform(distance.pdist(mat_norm, 'minkowski'))"
   ]
  },
  {
   "cell_type": "code",
   "execution_count": 361,
   "metadata": {
    "collapsed": false
   },
   "outputs": [
    {
     "data": {
      "text/plain": [
       "(74, 74)"
      ]
     },
     "execution_count": 361,
     "metadata": {},
     "output_type": "execute_result"
    }
   ],
   "source": [
    "sq_mat.shape"
   ]
  },
  {
   "cell_type": "code",
   "execution_count": 362,
   "metadata": {
    "collapsed": false
   },
   "outputs": [
    {
     "data": {
      "text/plain": [
       "array([[ 0.        ,  1.10863503,  1.180132  , ...,  1.23459969,\n",
       "         1.23936099,  1.24475706],\n",
       "       [ 1.10863503,  0.        ,  0.07432004, ...,  0.12774499,\n",
       "         0.13080113,  0.2687805 ],\n",
       "       [ 1.180132  ,  0.07432004,  0.        , ...,  0.06669339,\n",
       "         0.06373159,  0.2551183 ],\n",
       "       ..., \n",
       "       [ 1.23459969,  0.12774499,  0.06669339, ...,  0.        ,\n",
       "         0.02577112,  0.22340909],\n",
       "       [ 1.23936099,  0.13080113,  0.06373159, ...,  0.02577112,\n",
       "         0.        ,  0.24868383],\n",
       "       [ 1.24475706,  0.2687805 ,  0.2551183 , ...,  0.22340909,\n",
       "         0.24868383,  0.        ]])"
      ]
     },
     "execution_count": 362,
     "metadata": {},
     "output_type": "execute_result"
    }
   ],
   "source": [
    "sq_mat"
   ]
  },
  {
   "cell_type": "code",
   "execution_count": 313,
   "metadata": {
    "collapsed": true
   },
   "outputs": [],
   "source": [
    "from sklearn.cluster import DBSCAN"
   ]
  },
  {
   "cell_type": "code",
   "execution_count": 240,
   "metadata": {
    "collapsed": false
   },
   "outputs": [],
   "source": [
    "from collections import OrderedDict\n",
    "eps = np.arange(0.01, 0.90, 0.02, dtype='float64')\n",
    "min_samples = range(2,10,1)\n",
    "\n",
    "results = OrderedDict({'eps':[0], 'min_samples':[0], 'clusters':[0]})\n",
    "for dens in eps:\n",
    "    for ms in min_samples:\n",
    "        dbscn = DBSCAN(dens, ms, metric='precomputed')\n",
    "        dbscn.fit(sq_mat)\n",
    "        \n",
    "        results['eps'].append(dens)\n",
    "        results['min_samples'].append(ms)\n",
    "        results['clusters'].append(len(set(dbscn.labels_)))\n",
    "        \n",
    "\n",
    "#dbscn = DBSCAN(0.07, min_samples=5, metric='precomputed')"
   ]
  },
  {
   "cell_type": "code",
   "execution_count": 104,
   "metadata": {
    "collapsed": false
   },
   "outputs": [],
   "source": [
    "from pprint import pprint"
   ]
  },
  {
   "cell_type": "code",
   "execution_count": 241,
   "metadata": {
    "collapsed": true
   },
   "outputs": [
    {
     "name": "stdout",
     "output_type": "stream",
     "text": [
      "clusters [0, 5, 4, 4, 4, 4, 4, 3, 2, 5, 5, 4, 3, 3, 3, 3, 3, 3, 3, 3, 4, 3, 3, 3, 3, 2, 2, 2, 2, 2, 3, 3, 3, 2, 2, 2, 2, 2, 2, 2, 2, 1, 1, 1, 1, 1, 2, 2, 2, 1, 1, 1, 1, 1, 2, 2, 2, 1, 1, 1, 1, 1, 1, 1, 2, 1, 1, 1, 1, 1, 1, 1, 2, 1, 1, 1, 1, 1, 1, 1, 2, 1, 1, 1, 1, 1, 1, 1, 1, 1, 1, 1, 1, 1, 1, 1, 1, 1, 1, 1, 1, 1, 1, 1, 1, 1, 1, 1, 1, 1, 1, 1, 1, 1, 1, 1, 1, 1, 1, 1, 1, 1, 1, 1, 1, 1, 1, 1, 1, 1, 1, 1, 1, 1, 1, 1, 1, 1, 1, 1, 1, 1, 1, 1, 1, 1, 1, 1, 1, 1, 1, 1, 1, 1, 1, 1, 1, 1, 1, 1, 1, 1, 1, 1, 1, 1, 1, 1, 1, 1, 1, 1, 1, 1, 1, 1, 1, 1, 1, 1, 1, 1, 1, 1, 1, 1, 1, 1, 1, 1, 1, 1, 1, 1, 1, 1, 1, 1, 1, 1, 1, 1, 1, 1, 1, 1, 1, 1, 1, 1, 1, 1, 1, 1, 1, 1, 1, 1, 1, 1, 1, 1, 1, 1, 1, 1, 1, 1, 1, 1, 1, 1, 1, 1, 1, 1, 1, 1, 1, 1, 1, 1, 1, 1, 1, 1, 1, 1, 1, 1, 1, 1, 1, 1, 1, 1, 1, 1, 1, 1, 1, 1, 1, 1, 1, 1, 1, 1, 1, 1, 1, 1, 1, 1, 1, 1, 1, 1, 1, 1, 1, 1, 1, 1, 1, 1, 1, 1, 1, 1, 1, 1, 1, 1, 1, 1, 1, 1, 1, 1, 1, 1, 1, 1, 1, 1, 1, 1, 1, 1, 1, 1, 1, 1, 1, 1, 1, 1, 1, 1, 1, 1, 1, 1, 1, 1, 1, 1, 1, 1, 1, 1, 1, 1, 1, 1, 1, 1, 1, 1, 1, 1, 1, 1, 1, 1, 1, 1, 1, 1, 1, 1, 1, 1, 1, 1, 1, 1, 1, 1, 1]\n",
      "min_samples [0, 2, 3, 4, 5, 6, 7, 8, 9, 2, 3, 4, 5, 6, 7, 8, 9, 2, 3, 4, 5, 6, 7, 8, 9, 2, 3, 4, 5, 6, 7, 8, 9, 2, 3, 4, 5, 6, 7, 8, 9, 2, 3, 4, 5, 6, 7, 8, 9, 2, 3, 4, 5, 6, 7, 8, 9, 2, 3, 4, 5, 6, 7, 8, 9, 2, 3, 4, 5, 6, 7, 8, 9, 2, 3, 4, 5, 6, 7, 8, 9, 2, 3, 4, 5, 6, 7, 8, 9, 2, 3, 4, 5, 6, 7, 8, 9, 2, 3, 4, 5, 6, 7, 8, 9, 2, 3, 4, 5, 6, 7, 8, 9, 2, 3, 4, 5, 6, 7, 8, 9, 2, 3, 4, 5, 6, 7, 8, 9, 2, 3, 4, 5, 6, 7, 8, 9, 2, 3, 4, 5, 6, 7, 8, 9, 2, 3, 4, 5, 6, 7, 8, 9, 2, 3, 4, 5, 6, 7, 8, 9, 2, 3, 4, 5, 6, 7, 8, 9, 2, 3, 4, 5, 6, 7, 8, 9, 2, 3, 4, 5, 6, 7, 8, 9, 2, 3, 4, 5, 6, 7, 8, 9, 2, 3, 4, 5, 6, 7, 8, 9, 2, 3, 4, 5, 6, 7, 8, 9, 2, 3, 4, 5, 6, 7, 8, 9, 2, 3, 4, 5, 6, 7, 8, 9, 2, 3, 4, 5, 6, 7, 8, 9, 2, 3, 4, 5, 6, 7, 8, 9, 2, 3, 4, 5, 6, 7, 8, 9, 2, 3, 4, 5, 6, 7, 8, 9, 2, 3, 4, 5, 6, 7, 8, 9, 2, 3, 4, 5, 6, 7, 8, 9, 2, 3, 4, 5, 6, 7, 8, 9, 2, 3, 4, 5, 6, 7, 8, 9, 2, 3, 4, 5, 6, 7, 8, 9, 2, 3, 4, 5, 6, 7, 8, 9, 2, 3, 4, 5, 6, 7, 8, 9, 2, 3, 4, 5, 6, 7, 8, 9, 2, 3, 4, 5, 6, 7, 8, 9, 2, 3, 4, 5, 6, 7, 8, 9, 2, 3, 4, 5, 6, 7, 8, 9, 2, 3, 4, 5, 6, 7, 8, 9, 2, 3, 4, 5, 6, 7, 8, 9]\n",
      "eps [0, 0.01, 0.01, 0.01, 0.01, 0.01, 0.01, 0.01, 0.01, 0.029999999999999999, 0.029999999999999999, 0.029999999999999999, 0.029999999999999999, 0.029999999999999999, 0.029999999999999999, 0.029999999999999999, 0.029999999999999999, 0.049999999999999996, 0.049999999999999996, 0.049999999999999996, 0.049999999999999996, 0.049999999999999996, 0.049999999999999996, 0.049999999999999996, 0.049999999999999996, 0.069999999999999993, 0.069999999999999993, 0.069999999999999993, 0.069999999999999993, 0.069999999999999993, 0.069999999999999993, 0.069999999999999993, 0.069999999999999993, 0.089999999999999983, 0.089999999999999983, 0.089999999999999983, 0.089999999999999983, 0.089999999999999983, 0.089999999999999983, 0.089999999999999983, 0.089999999999999983, 0.10999999999999997, 0.10999999999999997, 0.10999999999999997, 0.10999999999999997, 0.10999999999999997, 0.10999999999999997, 0.10999999999999997, 0.10999999999999997, 0.12999999999999998, 0.12999999999999998, 0.12999999999999998, 0.12999999999999998, 0.12999999999999998, 0.12999999999999998, 0.12999999999999998, 0.12999999999999998, 0.14999999999999999, 0.14999999999999999, 0.14999999999999999, 0.14999999999999999, 0.14999999999999999, 0.14999999999999999, 0.14999999999999999, 0.14999999999999999, 0.16999999999999998, 0.16999999999999998, 0.16999999999999998, 0.16999999999999998, 0.16999999999999998, 0.16999999999999998, 0.16999999999999998, 0.16999999999999998, 0.18999999999999997, 0.18999999999999997, 0.18999999999999997, 0.18999999999999997, 0.18999999999999997, 0.18999999999999997, 0.18999999999999997, 0.18999999999999997, 0.20999999999999996, 0.20999999999999996, 0.20999999999999996, 0.20999999999999996, 0.20999999999999996, 0.20999999999999996, 0.20999999999999996, 0.20999999999999996, 0.22999999999999998, 0.22999999999999998, 0.22999999999999998, 0.22999999999999998, 0.22999999999999998, 0.22999999999999998, 0.22999999999999998, 0.22999999999999998, 0.24999999999999997, 0.24999999999999997, 0.24999999999999997, 0.24999999999999997, 0.24999999999999997, 0.24999999999999997, 0.24999999999999997, 0.24999999999999997, 0.26999999999999996, 0.26999999999999996, 0.26999999999999996, 0.26999999999999996, 0.26999999999999996, 0.26999999999999996, 0.26999999999999996, 0.26999999999999996, 0.28999999999999998, 0.28999999999999998, 0.28999999999999998, 0.28999999999999998, 0.28999999999999998, 0.28999999999999998, 0.28999999999999998, 0.28999999999999998, 0.30999999999999994, 0.30999999999999994, 0.30999999999999994, 0.30999999999999994, 0.30999999999999994, 0.30999999999999994, 0.30999999999999994, 0.30999999999999994, 0.32999999999999996, 0.32999999999999996, 0.32999999999999996, 0.32999999999999996, 0.32999999999999996, 0.32999999999999996, 0.32999999999999996, 0.32999999999999996, 0.34999999999999998, 0.34999999999999998, 0.34999999999999998, 0.34999999999999998, 0.34999999999999998, 0.34999999999999998, 0.34999999999999998, 0.34999999999999998, 0.36999999999999994, 0.36999999999999994, 0.36999999999999994, 0.36999999999999994, 0.36999999999999994, 0.36999999999999994, 0.36999999999999994, 0.36999999999999994, 0.38999999999999996, 0.38999999999999996, 0.38999999999999996, 0.38999999999999996, 0.38999999999999996, 0.38999999999999996, 0.38999999999999996, 0.38999999999999996, 0.40999999999999992, 0.40999999999999992, 0.40999999999999992, 0.40999999999999992, 0.40999999999999992, 0.40999999999999992, 0.40999999999999992, 0.40999999999999992, 0.42999999999999994, 0.42999999999999994, 0.42999999999999994, 0.42999999999999994, 0.42999999999999994, 0.42999999999999994, 0.42999999999999994, 0.42999999999999994, 0.44999999999999996, 0.44999999999999996, 0.44999999999999996, 0.44999999999999996, 0.44999999999999996, 0.44999999999999996, 0.44999999999999996, 0.44999999999999996, 0.46999999999999992, 0.46999999999999992, 0.46999999999999992, 0.46999999999999992, 0.46999999999999992, 0.46999999999999992, 0.46999999999999992, 0.46999999999999992, 0.48999999999999994, 0.48999999999999994, 0.48999999999999994, 0.48999999999999994, 0.48999999999999994, 0.48999999999999994, 0.48999999999999994, 0.48999999999999994, 0.5099999999999999, 0.5099999999999999, 0.5099999999999999, 0.5099999999999999, 0.5099999999999999, 0.5099999999999999, 0.5099999999999999, 0.5099999999999999, 0.52999999999999992, 0.52999999999999992, 0.52999999999999992, 0.52999999999999992, 0.52999999999999992, 0.52999999999999992, 0.52999999999999992, 0.52999999999999992, 0.54999999999999993, 0.54999999999999993, 0.54999999999999993, 0.54999999999999993, 0.54999999999999993, 0.54999999999999993, 0.54999999999999993, 0.54999999999999993, 0.56999999999999995, 0.56999999999999995, 0.56999999999999995, 0.56999999999999995, 0.56999999999999995, 0.56999999999999995, 0.56999999999999995, 0.56999999999999995, 0.58999999999999997, 0.58999999999999997, 0.58999999999999997, 0.58999999999999997, 0.58999999999999997, 0.58999999999999997, 0.58999999999999997, 0.58999999999999997, 0.60999999999999988, 0.60999999999999988, 0.60999999999999988, 0.60999999999999988, 0.60999999999999988, 0.60999999999999988, 0.60999999999999988, 0.60999999999999988, 0.62999999999999989, 0.62999999999999989, 0.62999999999999989, 0.62999999999999989, 0.62999999999999989, 0.62999999999999989, 0.62999999999999989, 0.62999999999999989, 0.64999999999999991, 0.64999999999999991, 0.64999999999999991, 0.64999999999999991, 0.64999999999999991, 0.64999999999999991, 0.64999999999999991, 0.64999999999999991, 0.66999999999999993, 0.66999999999999993, 0.66999999999999993, 0.66999999999999993, 0.66999999999999993, 0.66999999999999993, 0.66999999999999993, 0.66999999999999993, 0.68999999999999995, 0.68999999999999995, 0.68999999999999995, 0.68999999999999995, 0.68999999999999995, 0.68999999999999995, 0.68999999999999995, 0.68999999999999995, 0.70999999999999985, 0.70999999999999985, 0.70999999999999985, 0.70999999999999985, 0.70999999999999985, 0.70999999999999985, 0.70999999999999985, 0.70999999999999985, 0.72999999999999987, 0.72999999999999987, 0.72999999999999987, 0.72999999999999987, 0.72999999999999987, 0.72999999999999987, 0.72999999999999987, 0.72999999999999987, 0.74999999999999989, 0.74999999999999989, 0.74999999999999989, 0.74999999999999989, 0.74999999999999989, 0.74999999999999989, 0.74999999999999989, 0.74999999999999989, 0.76999999999999991, 0.76999999999999991, 0.76999999999999991, 0.76999999999999991, 0.76999999999999991, 0.76999999999999991, 0.76999999999999991, 0.76999999999999991, 0.78999999999999992, 0.78999999999999992, 0.78999999999999992, 0.78999999999999992, 0.78999999999999992, 0.78999999999999992, 0.78999999999999992, 0.78999999999999992, 0.80999999999999983, 0.80999999999999983, 0.80999999999999983, 0.80999999999999983, 0.80999999999999983, 0.80999999999999983, 0.80999999999999983, 0.80999999999999983, 0.82999999999999985, 0.82999999999999985, 0.82999999999999985, 0.82999999999999985, 0.82999999999999985, 0.82999999999999985, 0.82999999999999985, 0.82999999999999985, 0.84999999999999987, 0.84999999999999987, 0.84999999999999987, 0.84999999999999987, 0.84999999999999987, 0.84999999999999987, 0.84999999999999987, 0.84999999999999987, 0.86999999999999988, 0.86999999999999988, 0.86999999999999988, 0.86999999999999988, 0.86999999999999988, 0.86999999999999988, 0.86999999999999988, 0.86999999999999988, 0.8899999999999999, 0.8899999999999999, 0.8899999999999999, 0.8899999999999999, 0.8899999999999999, 0.8899999999999999, 0.8899999999999999, 0.8899999999999999]\n"
     ]
    }
   ],
   "source": [
    "for k,v in results.items():\n",
    "    print k, v"
   ]
  },
  {
   "cell_type": "code",
   "execution_count": 415,
   "metadata": {
    "collapsed": false
   },
   "outputs": [],
   "source": [
    "dbscn = DBSCAN(0.05, min_samples=3, metric='precomputed')"
   ]
  },
  {
   "cell_type": "code",
   "execution_count": 416,
   "metadata": {
    "collapsed": false
   },
   "outputs": [
    {
     "data": {
      "text/plain": [
       "DBSCAN(algorithm='auto', eps=0.05, leaf_size=30, metric='precomputed',\n",
       "    min_samples=3, p=None, random_state=None)"
      ]
     },
     "execution_count": 416,
     "metadata": {},
     "output_type": "execute_result"
    }
   ],
   "source": [
    "dbscn.fit(sq_mat)"
   ]
  },
  {
   "cell_type": "code",
   "execution_count": 417,
   "metadata": {
    "collapsed": false
   },
   "outputs": [],
   "source": [
    "clusters=dbscn.labels_"
   ]
  },
  {
   "cell_type": "code",
   "execution_count": 418,
   "metadata": {
    "collapsed": false
   },
   "outputs": [
    {
     "data": {
      "text/plain": [
       "array([-1, -1, -1, -1, -1,  0,  0,  0, -1,  0,  0,  0,  0,  0,  0,  0,  0,\n",
       "       -1,  0,  0,  0,  0,  0,  0,  0,  0,  0,  0,  0,  0,  0,  0,  0,  0,\n",
       "        0,  0,  0,  0,  0,  0, -1,  0,  0,  0,  0,  0,  0,  0,  0,  0,  0,\n",
       "        0,  0,  0,  0,  0, -1,  0, -1,  0,  0,  0,  0,  0, -1,  0, -1,  0,\n",
       "        0,  0,  0,  0,  0, -1])"
      ]
     },
     "execution_count": 418,
     "metadata": {},
     "output_type": "execute_result"
    }
   ],
   "source": [
    "clusters"
   ]
  },
  {
   "cell_type": "code",
   "execution_count": 327,
   "metadata": {
    "collapsed": false
   },
   "outputs": [],
   "source": [
    "#function to spit out json format for D3 nodes graph\n",
    "from itertools import combinations\n",
    "\n",
    "def gen_json(mat, labels, clusters):\n",
    "    #print sourceMat.head()\n",
    "    links=[]\n",
    "    for i in combinations(range(mat.shape[0]),2):\n",
    "        source = i[0]\n",
    "        target = i[1]\n",
    "        val = mat[source, target]\n",
    "\n",
    "        if val>0.95:\n",
    "            links.append({'source':source, 'target':target, 'value':val*10})\n",
    "    \n",
    "    nodes=[]\n",
    "    for i in range(mat.shape[0]):\n",
    "        #nodes.append({'name':ntnl_flsa_summ['naics_code_description'][i], 'group':np.random.randint(low=1,high=5)})\n",
    "        nodes.append({'name':labels[i],'group':clusters[i]})\n",
    "        \n",
    "    graphdict={'nodes':nodes, 'links':links}\n",
    "    return graphdict\n",
    "    "
   ]
  },
  {
   "cell_type": "code",
   "execution_count": 204,
   "metadata": {
    "collapsed": false
   },
   "outputs": [
    {
     "data": {
      "text/plain": [
       "[(u'NAICS3',), (u'Industry',)]"
      ]
     },
     "execution_count": 204,
     "metadata": {},
     "output_type": "execute_result"
    }
   ],
   "source": [
    "zip(sf_whd_cbp_nonull['NAICS3'],sf_whd_cbp_nonull['Industry'],)"
   ]
  },
  {
   "cell_type": "code",
   "execution_count": 247,
   "metadata": {
    "collapsed": false
   },
   "outputs": [],
   "source": [
    "import json\n",
    "with open('sim_ex2.json','w') as f:\n",
    "    json.dump(gen_json(sq_mat, zip(sf_whd_cbp_nonull['NAICS3'],sf_whd_cbp_nonull['Industry'], sf_whd_cbp_nonull['MW_Severity'], sf_whd_cbp_nonull['Affected_Rate'],sf_whd_cbp_nonull['Other_W_Similarity'],clusters), clusters), f)"
   ]
  },
  {
   "cell_type": "code",
   "execution_count": 440,
   "metadata": {
    "collapsed": true
   },
   "outputs": [],
   "source": [
    "#function to take in one node (industry) and return similar nodes \n",
    "\n",
    "def single_node_json(mat, labels, sourceIndex, clusters):\n",
    "    links=[]\n",
    "    nodes=[]\n",
    "    for i in range(mat.shape[0]):\n",
    "        #source = i[0]\n",
    "        target = i\n",
    "        val = mat[sourceIndex, target]\n",
    "\n",
    "        if val>=0.15:\n",
    "            links.append({'source':sourceIndex, 'target':target, 'value':val*10})\n",
    "            nodes.append({'name':labels[i], 'group':clusters[i]})\n",
    "        \n",
    "        \n",
    "    #nodes=[]\n",
    "    #for i in range(mat.shape[0]):\n",
    "        #nodes.append({'name':ntnl_flsa_summ['naics_code_description'][i], 'group':np.random.randint(low=1,high=5)})\n",
    "        #nodes.append({'name':labels[i], 'group':clusters[i]})\n",
    "    \n",
    "    graphdict={'nodes':nodes, 'links':links}\n",
    "    return graphdict\n"
   ]
  },
  {
   "cell_type": "code",
   "execution_count": 441,
   "metadata": {
    "collapsed": false
   },
   "outputs": [
    {
     "data": {
      "text/plain": [
       "{'links': [{'source': 10, 'target': 0, 'value': 12.288563362654671},\n",
       "  {'source': 10, 'target': 3, 'value': 2.9780833693232376},\n",
       "  {'source': 10, 'target': 4, 'value': 1.5932045083399051},\n",
       "  {'source': 10, 'target': 8, 'value': 3.4621144048576671},\n",
       "  {'source': 10, 'target': 17, 'value': 1.8902737351118812},\n",
       "  {'source': 10, 'target': 40, 'value': 1.8626854621240208},\n",
       "  {'source': 10, 'target': 56, 'value': 3.6858202819843044},\n",
       "  {'source': 10, 'target': 64, 'value': 8.2454386560445379},\n",
       "  {'source': 10, 'target': 66, 'value': 2.8532291691856},\n",
       "  {'source': 10, 'target': 73, 'value': 2.3394115216277465}],\n",
       " 'nodes': [{'group': -1,\n",
       "   'name': (623, u'Nursing and Residential Care Facilities')},\n",
       "  {'group': -1, 'name': (722, u'Food Services and Drinking Places')},\n",
       "  {'group': -1,\n",
       "   'name': (334, u'Computer and Electronic Product Manufacturing')},\n",
       "  {'group': -1, 'name': (492, u'Couriers and Messengers')},\n",
       "  {'group': -1,\n",
       "   'name': (711,\n",
       "    u'Performing Arts, Spectator Sports, and Related Industries')},\n",
       "  {'group': 0, 'name': (238, u'Specialty Trade Contractors')},\n",
       "  {'group': 0,\n",
       "   'name': (713, u'Amusement, Gambling, and Recreation Industries')},\n",
       "  {'group': 0, 'name': (561, u'Administrative and Support Services')},\n",
       "  {'group': -1, 'name': (484, u'Truck Transportation')},\n",
       "  {'group': 0, 'name': (454, u'Nonstore Retailers ')},\n",
       "  {'group': 0, 'name': (445, u'Food and Beverage Stores ')},\n",
       "  {'group': 0, 'name': (221, u'Utilities ')},\n",
       "  {'group': 0, 'name': (811, u'Repair and Maintenance')},\n",
       "  {'group': 0, 'name': (339, u'Miscellaneous Manufacturing')},\n",
       "  {'group': 0, 'name': (624, u'Social Assistance')},\n",
       "  {'group': 0,\n",
       "   'name': (541, u'Professional, Scientific, and Technical Services')},\n",
       "  {'group': 0, 'name': (812, u'Personal and Laundry Services')},\n",
       "  {'group': -1,\n",
       "   'name': (518, u'Data Processing, Hosting, and Related Services')},\n",
       "  {'group': 0, 'name': (511, u'Publishing Industries (except Internet)')},\n",
       "  {'group': 0,\n",
       "   'name': (335,\n",
       "    u'Electrical Equipment, Appliance, and Component Manufacturing')},\n",
       "  {'group': 0, 'name': (611, u'Educational Services')},\n",
       "  {'group': 0, 'name': (485, u'Transit and Ground Passenger Transportation')},\n",
       "  {'group': 0, 'name': (446, u'Health and Personal Care Stores ')},\n",
       "  {'group': 0, 'name': (531, u'Real Estate')},\n",
       "  {'group': 0, 'name': (323, u'Printing and Related Support Activities')},\n",
       "  {'group': 0, 'name': (424, u'Merchant Wholesalers, Nondurable Goods ')},\n",
       "  {'group': 0, 'name': (621, u'Ambulatory Health Care Services')},\n",
       "  {'group': 0,\n",
       "   'name': (813,\n",
       "    u'Religious, Grantmaking, Civic, Professional, and Similar Organizations')},\n",
       "  {'group': 0, 'name': (236, u'Construction of Buildings')},\n",
       "  {'group': 0,\n",
       "   'name': (451,\n",
       "    u'Sporting Goods, Hobby, Musical Instrument, and Book Stores ')},\n",
       "  {'group': 0, 'name': (423, u'Merchant Wholesalers, Durable Goods ')},\n",
       "  {'group': 0, 'name': (311, u'Food Manufacturing')},\n",
       "  {'group': 0, 'name': (515, u'Broadcasting (except Internet)')},\n",
       "  {'group': 0, 'name': (326, u'Plastics and Rubber Products Manufacturing')},\n",
       "  {'group': 0, 'name': (453, u'Miscellaneous Store Retailers ')},\n",
       "  {'group': 0, 'name': (322, u'Paper Manufacturing')},\n",
       "  {'group': 0, 'name': (488, u'Support Activities for Transportation')},\n",
       "  {'group': 0,\n",
       "   'name': (523,\n",
       "    u'Securities, Commodity Contracts, and Other Financial Investments and Related Activities')},\n",
       "  {'group': 0, 'name': (524, u'Insurance Carriers and Related Activities')},\n",
       "  {'group': 0, 'name': (522, u'Credit Intermediation and Related Activities')},\n",
       "  {'group': -1, 'name': (315, u'Apparel Manufacturing')},\n",
       "  {'group': 0, 'name': (452, u'General Merchandise Stores ')},\n",
       "  {'group': 0, 'name': (441, u'Motor Vehicle and Parts Dealers ')},\n",
       "  {'group': 0, 'name': (312, u'Beverage and Tobacco Product Manufacturing')},\n",
       "  {'group': 0, 'name': (517, u'Telecommunications')},\n",
       "  {'group': 0, 'name': (337, u'Furniture and Related Product Manufacturing')},\n",
       "  {'group': 0, 'name': (332, u'Fabricated Metal Product Manufacturing')},\n",
       "  {'group': 0, 'name': (481, u'Air Transportation')},\n",
       "  {'group': 0, 'name': (327, u'Nonmetallic Mineral Product Manufacturing')},\n",
       "  {'group': 0, 'name': (237, u'Heavy and Civil Engineering Construction')},\n",
       "  {'group': 0, 'name': (622, u'Hospitals')},\n",
       "  {'group': 0, 'name': (442, u'Furniture and Home Furnishings Stores ')},\n",
       "  {'group': 0, 'name': (562, u'Waste Management and Remediation Services')},\n",
       "  {'group': 0, 'name': (493, u'Warehousing and Storage')},\n",
       "  {'group': 0, 'name': (448, u'Clothing and Clothing Accessories Stores ')},\n",
       "  {'group': 0, 'name': (325, u'Chemical Manufacturing')},\n",
       "  {'group': -1,\n",
       "   'name': (115, u'Support Activities for Agriculture and Forestry')},\n",
       "  {'group': 0, 'name': (483, u'Water Transportation')},\n",
       "  {'group': -1, 'name': (213, u'Support Activities for Mining')},\n",
       "  {'group': 0,\n",
       "   'name': (425, u'Wholesale Electronic Markets and Agents and Brokers ')},\n",
       "  {'group': 0,\n",
       "   'name': (444,\n",
       "    u'Building Material and Garden Equipment and Supplies Dealers ')},\n",
       "  {'group': 0, 'name': (331, u'Primary Metal Manufacturing')},\n",
       "  {'group': 0, 'name': (324, u'Petroleum and Coal Products Manufacturing')},\n",
       "  {'group': 0, 'name': (519, u'Other Information Services')},\n",
       "  {'group': -1, 'name': (211, u'Oil and Gas Extraction')},\n",
       "  {'group': 0, 'name': (321, u'Wood Product Manufacturing')},\n",
       "  {'group': -1, 'name': (336, u'Transportation Equipment Manufacturing')},\n",
       "  {'group': 0, 'name': (721, u'Accommodation')},\n",
       "  {'group': 0,\n",
       "   'name': (512, u'Motion Picture and Sound Recording Industries')},\n",
       "  {'group': 0, 'name': (443, u'Electronics and Appliance Stores ')},\n",
       "  {'group': 0, 'name': (333, u'Machinery Manufacturing')},\n",
       "  {'group': 0, 'name': (447, u'Gasoline Stations ')},\n",
       "  {'group': 0, 'name': (532, u'Rental and Leasing Services')},\n",
       "  {'group': -1, 'name': (113, u'Forestry and Logging')}]}"
      ]
     },
     "execution_count": 441,
     "metadata": {},
     "output_type": "execute_result"
    }
   ],
   "source": [
    "single_node_json(sq_mat,\n",
    "                zip(sf_whd_cbp_nonull['NAICS3'],sf_whd_cbp_nonull['Industry']),\n",
    "                 10, clusters)"
   ]
  },
  {
   "cell_type": "code",
   "execution_count": 442,
   "metadata": {
    "collapsed": false
   },
   "outputs": [],
   "source": [
    "with open('single_node_similarity1.json','w') as f:\n",
    "    json.dump(single_node_json(sq_mat,\n",
    "                zip(sf_whd_cbp_nonull['NAICS3'],sf_whd_cbp_nonull['Industry']),\n",
    "                 5, clusters), \n",
    "              f)"
   ]
  },
  {
   "cell_type": "code",
   "execution_count": 258,
   "metadata": {
    "collapsed": false
   },
   "outputs": [
    {
     "data": {
      "text/html": [
       "<div>\n",
       "<table border=\"1\" class=\"dataframe\">\n",
       "  <thead>\n",
       "    <tr style=\"text-align: right;\">\n",
       "      <th></th>\n",
       "      <th>Industry</th>\n",
       "      <th>NAICS3</th>\n",
       "      <th>NAICS Code</th>\n",
       "      <th>Number of Cases</th>\n",
       "      <th>EEs Employed in Violation</th>\n",
       "      <th>Minimum Wage Backwages</th>\n",
       "      <th>Backwages</th>\n",
       "      <th>Minimum Wage Backwages per Employee</th>\n",
       "      <th>Backwages per Employee</th>\n",
       "      <th>Penalty Assessed</th>\n",
       "      <th>Employees in Industry</th>\n",
       "      <th>Avg Weekly Pay</th>\n",
       "      <th>Establishments in Industry</th>\n",
       "      <th>MW_Severity</th>\n",
       "      <th>Affected_Rate</th>\n",
       "      <th>Other_W_Similarity</th>\n",
       "    </tr>\n",
       "  </thead>\n",
       "  <tbody>\n",
       "    <tr>\n",
       "      <th>17</th>\n",
       "      <td>Data Processing, Hosting, and Related Services</td>\n",
       "      <td>518</td>\n",
       "      <td>51</td>\n",
       "      <td>5</td>\n",
       "      <td>445</td>\n",
       "      <td>33092.01</td>\n",
       "      <td>3831481.61</td>\n",
       "      <td>201</td>\n",
       "      <td>8045.2</td>\n",
       "      <td>0.0</td>\n",
       "      <td>30725.0</td>\n",
       "      <td>1566.0</td>\n",
       "      <td>849.0</td>\n",
       "      <td>479.282163</td>\n",
       "      <td>0.000163</td>\n",
       "      <td>55492.573359</td>\n",
       "    </tr>\n",
       "  </tbody>\n",
       "</table>\n",
       "</div>"
      ],
      "text/plain": [
       "                                          Industry  NAICS3  NAICS Code  \\\n",
       "17  Data Processing, Hosting, and Related Services     518          51   \n",
       "\n",
       "    Number of Cases  EEs Employed in Violation  Minimum Wage Backwages  \\\n",
       "17                5                        445                33092.01   \n",
       "\n",
       "     Backwages  Minimum Wage Backwages per Employee  Backwages per Employee  \\\n",
       "17  3831481.61                                  201                  8045.2   \n",
       "\n",
       "    Penalty Assessed  Employees in Industry  Avg Weekly Pay  \\\n",
       "17               0.0                30725.0          1566.0   \n",
       "\n",
       "    Establishments in Industry  MW_Severity  Affected_Rate  Other_W_Similarity  \n",
       "17                       849.0   479.282163       0.000163        55492.573359  "
      ]
     },
     "execution_count": 258,
     "metadata": {},
     "output_type": "execute_result"
    }
   ],
   "source": [
    "sf_whd_cbp_nonull[sf_whd_cbp_nonull['NAICS3']==518]"
   ]
  },
  {
   "cell_type": "code",
   "execution_count": 303,
   "metadata": {
    "collapsed": false
   },
   "outputs": [
    {
     "data": {
      "text/plain": [
       "<matplotlib.text.Text at 0x1202257d0>"
      ]
     },
     "execution_count": 303,
     "metadata": {},
     "output_type": "execute_result"
    },
    {
     "data": {
      "image/png": "[encoded data removed]",
      "text/plain": [
       "<matplotlib.figure.Figure at 0x1200b6110>"
      ]
     },
     "metadata": {},
     "output_type": "display_data"
    }
   ],
   "source": [
    "logMW_Severity = np.log(sf_whd_cbp_nonull['MW_Severity'])\n",
    "# view a scatter plot of Severity Score Vs. Incidence Reported Rate\n",
    "plt.figure(figsize=(15,10))\n",
    "plt.scatter(x='Affected_Rate', y=logMW_Severity, marker='o',\n",
    "           data=sf_whd_cbp_nonull)\n",
    "#plt.ylim(0,2000)\n",
    "plt.xlim(0,0.004)\n",
    "plt.ylabel('Violation Severity (log scale)')\n",
    "plt.xlabel('Workforce Affected Rate')\n",
    "plt.title('Scatterplot: Vizualizing NAICS Industry Susceptibility to FLSA Violations')"
   ]
  },
  {
   "cell_type": "code",
   "execution_count": null,
   "metadata": {
    "collapsed": true
   },
   "outputs": [],
   "source": []
  }
 ],
 "metadata": {
  "kernelspec": {
   "display_name": "Python 2",
   "language": "python",
   "name": "python2"
  },
  "language_info": {
   "codemirror_mode": {
    "name": "ipython",
    "version": 2
   },
   "file_extension": ".py",
   "mimetype": "text/x-python",
   "name": "python",
   "nbconvert_exporter": "python",
   "pygments_lexer": "ipython2",
   "version": "2.7.11"
  }
 },
 "nbformat": 4,
 "nbformat_minor": 0
}
