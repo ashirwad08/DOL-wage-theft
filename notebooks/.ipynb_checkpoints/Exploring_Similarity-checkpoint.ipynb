{
 "cells": [
  {
   "cell_type": "markdown",
   "metadata": {},
   "source": [
    "I want to calculate pairwise similarities between my NAICS industries and see if I can get this in a graph readable format. I then want to play with Gephi to see if I can make sense of the nodes and edges.\n",
    "\n",
    "If this is successful then it serves as a model for re-doing my analysis at the State or MSA level for a specific NAICS industry to get an idea of company level similarity. This is to help field inspectors \"know\" who to investigate next."
   ]
  },
  {
   "cell_type": "code",
   "execution_count": 15,
   "metadata": {
    "collapsed": true
   },
   "outputs": [],
   "source": [
    "import csv\n",
    "import pandas as pd\n",
    "import numpy as np\n",
    "from datetime import datetime\n",
    "import matplotlib.pyplot as plt\n",
    "import requests\n",
    "import json\n",
    "import seaborn as sbrn\n",
    "import urllib2\n",
    "import re\n",
    "import pickle\n",
    "from sklearn.cluster import k_means\n",
    "import scipy.spatial as sp\n",
    "%matplotlib inline"
   ]
  },
  {
   "cell_type": "code",
   "execution_count": 6,
   "metadata": {
    "collapsed": false
   },
   "outputs": [],
   "source": [
    "#read pickle\n",
    "ntnl_flsa_summ = pickle.load(open('./../pickles/ntnl_flsa_summary.pkl'))"
   ]
  },
  {
   "cell_type": "code",
   "execution_count": 7,
   "metadata": {
    "collapsed": false
   },
   "outputs": [
    {
     "data": {
      "text/html": [
       "<div>\n",
       "<table border=\"1\" class=\"dataframe\">\n",
       "  <thead>\n",
       "    <tr style=\"text-align: right;\">\n",
       "      <th></th>\n",
       "      <th>naic_cd</th>\n",
       "      <th>naics_code_description</th>\n",
       "      <th>total_flsa_bw_atp_amt</th>\n",
       "      <th>total_flsa_ee_atp_cnt</th>\n",
       "      <th>total_observations</th>\n",
       "      <th>num_firms</th>\n",
       "      <th>num_establishments</th>\n",
       "      <th>num_employed</th>\n",
       "      <th>payroll</th>\n",
       "      <th>receipts</th>\n",
       "      <th>flsa_severity_idx</th>\n",
       "      <th>flsa_reported_rt</th>\n",
       "      <th>flsa_suscptbl_idx</th>\n",
       "    </tr>\n",
       "  </thead>\n",
       "  <tbody>\n",
       "    <tr>\n",
       "      <th>(1131, Timber Tract Operations)</th>\n",
       "      <td>1131</td>\n",
       "      <td>Timber Tract Operations</td>\n",
       "      <td>0.0</td>\n",
       "      <td>0.0</td>\n",
       "      <td>9</td>\n",
       "      <td>1572</td>\n",
       "      <td>1668</td>\n",
       "      <td>7804</td>\n",
       "      <td>358394</td>\n",
       "      <td>2173256</td>\n",
       "      <td>NaN</td>\n",
       "      <td>1.153255</td>\n",
       "      <td>NaN</td>\n",
       "    </tr>\n",
       "    <tr>\n",
       "      <th>(11311, Timber Tract Operations)</th>\n",
       "      <td>11311</td>\n",
       "      <td>Timber Tract Operations</td>\n",
       "      <td>0.0</td>\n",
       "      <td>0.0</td>\n",
       "      <td>28</td>\n",
       "      <td>1572</td>\n",
       "      <td>1668</td>\n",
       "      <td>7804</td>\n",
       "      <td>358394</td>\n",
       "      <td>2173256</td>\n",
       "      <td>NaN</td>\n",
       "      <td>3.587904</td>\n",
       "      <td>NaN</td>\n",
       "    </tr>\n",
       "    <tr>\n",
       "      <th>(113110, Timber Tract Operations)</th>\n",
       "      <td>113110</td>\n",
       "      <td>Timber Tract Operations</td>\n",
       "      <td>0.0</td>\n",
       "      <td>0.0</td>\n",
       "      <td>40</td>\n",
       "      <td>1572</td>\n",
       "      <td>1668</td>\n",
       "      <td>7804</td>\n",
       "      <td>358394</td>\n",
       "      <td>2173256</td>\n",
       "      <td>NaN</td>\n",
       "      <td>5.125577</td>\n",
       "      <td>NaN</td>\n",
       "    </tr>\n",
       "    <tr>\n",
       "      <th>(1132, Forest Nurseries and Gathering of Forest Products)</th>\n",
       "      <td>1132</td>\n",
       "      <td>Forest Nurseries and Gathering of Forest Products</td>\n",
       "      <td>0.0</td>\n",
       "      <td>0.0</td>\n",
       "      <td>8</td>\n",
       "      <td>671</td>\n",
       "      <td>785</td>\n",
       "      <td>6836</td>\n",
       "      <td>202391</td>\n",
       "      <td>970712</td>\n",
       "      <td>NaN</td>\n",
       "      <td>1.170275</td>\n",
       "      <td>NaN</td>\n",
       "    </tr>\n",
       "    <tr>\n",
       "      <th>(11321, Forest Nurseries and Gathering of Forest Products)</th>\n",
       "      <td>11321</td>\n",
       "      <td>Forest Nurseries and Gathering of Forest Products</td>\n",
       "      <td>0.0</td>\n",
       "      <td>0.0</td>\n",
       "      <td>24</td>\n",
       "      <td>671</td>\n",
       "      <td>785</td>\n",
       "      <td>6836</td>\n",
       "      <td>202391</td>\n",
       "      <td>970712</td>\n",
       "      <td>NaN</td>\n",
       "      <td>3.510825</td>\n",
       "      <td>NaN</td>\n",
       "    </tr>\n",
       "  </tbody>\n",
       "</table>\n",
       "</div>"
      ],
      "text/plain": [
       "                                                   naic_cd  \\\n",
       "(1131, Timber Tract Operations)                       1131   \n",
       "(11311, Timber Tract Operations)                     11311   \n",
       "(113110, Timber Tract Operations)                   113110   \n",
       "(1132, Forest Nurseries and Gathering of Forest...    1132   \n",
       "(11321, Forest Nurseries and Gathering of Fores...   11321   \n",
       "\n",
       "                                                                               naics_code_description  \\\n",
       "(1131, Timber Tract Operations)                                               Timber Tract Operations   \n",
       "(11311, Timber Tract Operations)                                              Timber Tract Operations   \n",
       "(113110, Timber Tract Operations)                                             Timber Tract Operations   \n",
       "(1132, Forest Nurseries and Gathering of Forest...  Forest Nurseries and Gathering of Forest Products   \n",
       "(11321, Forest Nurseries and Gathering of Fores...  Forest Nurseries and Gathering of Forest Products   \n",
       "\n",
       "                                                    total_flsa_bw_atp_amt  \\\n",
       "(1131, Timber Tract Operations)                                       0.0   \n",
       "(11311, Timber Tract Operations)                                      0.0   \n",
       "(113110, Timber Tract Operations)                                     0.0   \n",
       "(1132, Forest Nurseries and Gathering of Forest...                    0.0   \n",
       "(11321, Forest Nurseries and Gathering of Fores...                    0.0   \n",
       "\n",
       "                                                    total_flsa_ee_atp_cnt  \\\n",
       "(1131, Timber Tract Operations)                                       0.0   \n",
       "(11311, Timber Tract Operations)                                      0.0   \n",
       "(113110, Timber Tract Operations)                                     0.0   \n",
       "(1132, Forest Nurseries and Gathering of Forest...                    0.0   \n",
       "(11321, Forest Nurseries and Gathering of Fores...                    0.0   \n",
       "\n",
       "                                                    total_observations  \\\n",
       "(1131, Timber Tract Operations)                                      9   \n",
       "(11311, Timber Tract Operations)                                    28   \n",
       "(113110, Timber Tract Operations)                                   40   \n",
       "(1132, Forest Nurseries and Gathering of Forest...                   8   \n",
       "(11321, Forest Nurseries and Gathering of Fores...                  24   \n",
       "\n",
       "                                                    num_firms  \\\n",
       "(1131, Timber Tract Operations)                          1572   \n",
       "(11311, Timber Tract Operations)                         1572   \n",
       "(113110, Timber Tract Operations)                        1572   \n",
       "(1132, Forest Nurseries and Gathering of Forest...        671   \n",
       "(11321, Forest Nurseries and Gathering of Fores...        671   \n",
       "\n",
       "                                                    num_establishments  \\\n",
       "(1131, Timber Tract Operations)                                   1668   \n",
       "(11311, Timber Tract Operations)                                  1668   \n",
       "(113110, Timber Tract Operations)                                 1668   \n",
       "(1132, Forest Nurseries and Gathering of Forest...                 785   \n",
       "(11321, Forest Nurseries and Gathering of Fores...                 785   \n",
       "\n",
       "                                                    num_employed  payroll  \\\n",
       "(1131, Timber Tract Operations)                             7804   358394   \n",
       "(11311, Timber Tract Operations)                            7804   358394   \n",
       "(113110, Timber Tract Operations)                           7804   358394   \n",
       "(1132, Forest Nurseries and Gathering of Forest...          6836   202391   \n",
       "(11321, Forest Nurseries and Gathering of Fores...          6836   202391   \n",
       "\n",
       "                                                    receipts  \\\n",
       "(1131, Timber Tract Operations)                      2173256   \n",
       "(11311, Timber Tract Operations)                     2173256   \n",
       "(113110, Timber Tract Operations)                    2173256   \n",
       "(1132, Forest Nurseries and Gathering of Forest...    970712   \n",
       "(11321, Forest Nurseries and Gathering of Fores...    970712   \n",
       "\n",
       "                                                    flsa_severity_idx  \\\n",
       "(1131, Timber Tract Operations)                                   NaN   \n",
       "(11311, Timber Tract Operations)                                  NaN   \n",
       "(113110, Timber Tract Operations)                                 NaN   \n",
       "(1132, Forest Nurseries and Gathering of Forest...                NaN   \n",
       "(11321, Forest Nurseries and Gathering of Fores...                NaN   \n",
       "\n",
       "                                                    flsa_reported_rt  \\\n",
       "(1131, Timber Tract Operations)                             1.153255   \n",
       "(11311, Timber Tract Operations)                            3.587904   \n",
       "(113110, Timber Tract Operations)                           5.125577   \n",
       "(1132, Forest Nurseries and Gathering of Forest...          1.170275   \n",
       "(11321, Forest Nurseries and Gathering of Fores...          3.510825   \n",
       "\n",
       "                                                    flsa_suscptbl_idx  \n",
       "(1131, Timber Tract Operations)                                   NaN  \n",
       "(11311, Timber Tract Operations)                                  NaN  \n",
       "(113110, Timber Tract Operations)                                 NaN  \n",
       "(1132, Forest Nurseries and Gathering of Forest...                NaN  \n",
       "(11321, Forest Nurseries and Gathering of Fores...                NaN  "
      ]
     },
     "execution_count": 7,
     "metadata": {},
     "output_type": "execute_result"
    }
   ],
   "source": [
    "ntnl_flsa_summ.head()"
   ]
  },
  {
   "cell_type": "code",
   "execution_count": 184,
   "metadata": {
    "collapsed": true
   },
   "outputs": [],
   "source": [
    "#now, get only the relevant matrix of values\n",
    "cols = ['total_flsa_bw_atp_amt','total_flsa_ee_atp_cnt','total_observations','payroll','num_employed']"
   ]
  },
  {
   "cell_type": "code",
   "execution_count": 260,
   "metadata": {
    "collapsed": false
   },
   "outputs": [
    {
     "data": {
      "text/plain": [
       "<matplotlib.axes._subplots.AxesSubplot at 0x12fd01d50>"
      ]
     },
     "execution_count": 260,
     "metadata": {},
     "output_type": "execute_result"
    },
    {
     "data": {
      "image/png": "[encoded data removed]",
      "text/plain": [
       "<matplotlib.figure.Figure at 0x12fd41d10>"
      ]
     },
     "metadata": {},
     "output_type": "display_data"
    }
   ],
   "source": [
    "#ntnl_flsa_summ.total_flsa_bw_atp_amt.plot(kind='kde', figsize=(15,10))\n",
    "#ntnl_flsa_summ.total_flsa_ee_atp_cnt.plot(kind='kde', figsize=(15,10), c='red')\n",
    "ntnl_flsa_summ['total_flsa_ee_atp_cnt'].plot(kind='kde',figsize=(15,10), c='green')"
   ]
  },
  {
   "cell_type": "code",
   "execution_count": 185,
   "metadata": {
    "collapsed": false
   },
   "outputs": [],
   "source": [
    "nums = np.matrix(ntnl_flsa_summ[cols])"
   ]
  },
  {
   "cell_type": "code",
   "execution_count": 186,
   "metadata": {
    "collapsed": false
   },
   "outputs": [],
   "source": [
    "nums /= nums.std(axis=0) #normalize?"
   ]
  },
  {
   "cell_type": "code",
   "execution_count": 188,
   "metadata": {
    "collapsed": false
   },
   "outputs": [
    {
     "data": {
      "text/plain": [
       "(1959, 5)"
      ]
     },
     "execution_count": 188,
     "metadata": {},
     "output_type": "execute_result"
    }
   ],
   "source": [
    "nums.shape"
   ]
  },
  {
   "cell_type": "code",
   "execution_count": 189,
   "metadata": {
    "collapsed": false
   },
   "outputs": [],
   "source": [
    "distmat=sp.distance.pdist(nums, 'cosine')"
   ]
  },
  {
   "cell_type": "code",
   "execution_count": 190,
   "metadata": {
    "collapsed": false
   },
   "outputs": [
    {
     "data": {
      "text/plain": [
       "(1917861,)"
      ]
     },
     "execution_count": 190,
     "metadata": {},
     "output_type": "execute_result"
    }
   ],
   "source": [
    "distmat.shape"
   ]
  },
  {
   "cell_type": "code",
   "execution_count": 191,
   "metadata": {
    "collapsed": false
   },
   "outputs": [
    {
     "data": {
      "text/plain": [
       "(1959, 5)"
      ]
     },
     "execution_count": 191,
     "metadata": {},
     "output_type": "execute_result"
    }
   ],
   "source": [
    "nums.shape"
   ]
  },
  {
   "cell_type": "code",
   "execution_count": 195,
   "metadata": {
    "collapsed": false
   },
   "outputs": [
    {
     "data": {
      "text/plain": [
       "array([ 0.06210026,  0.        ,  0.00163824,  0.03719834,  0.00118392])"
      ]
     },
     "execution_count": 195,
     "metadata": {},
     "output_type": "execute_result"
    }
   ],
   "source": [
    "sp.distance.squareform(distmat)[1][:5]"
   ]
  },
  {
   "cell_type": "code",
   "execution_count": 196,
   "metadata": {
    "collapsed": false
   },
   "outputs": [],
   "source": [
    "sq_distMat=sp.distance.squareform(distmat)"
   ]
  },
  {
   "cell_type": "code",
   "execution_count": 197,
   "metadata": {
    "collapsed": false
   },
   "outputs": [
    {
     "data": {
      "text/plain": [
       "(1959, 1959)"
      ]
     },
     "execution_count": 197,
     "metadata": {},
     "output_type": "execute_result"
    }
   ],
   "source": [
    "sq_distMat.shape"
   ]
  },
  {
   "cell_type": "code",
   "execution_count": 128,
   "metadata": {
    "collapsed": true
   },
   "outputs": [],
   "source": [
    "names=ntnl_flsa_summ.naic_cd[:500]"
   ]
  },
  {
   "cell_type": "code",
   "execution_count": 129,
   "metadata": {
    "collapsed": true
   },
   "outputs": [
    {
     "data": {
      "text/plain": [
       "(1131, Timber Tract Operations)                                                                             1131\n",
       "(11311, Timber Tract Operations)                                                                           11311\n",
       "(113110, Timber Tract Operations)                                                                         113110\n",
       "(1132, Forest Nurseries and Gathering of Forest Products)                                                   1132\n",
       "(11321, Forest Nurseries and Gathering of Forest Products)                                                 11321\n",
       "(113210, Forest Nurseries and Gathering of Forest Products)                                               113210\n",
       "(1133, Logging)                                                                                             1133\n",
       "(11331, Logging)                                                                                           11331\n",
       "(113310, Logging)                                                                                         113310\n",
       "(1141, Fishing)                                                                                             1141\n",
       "(11411, Fishing)                                                                                           11411\n",
       "(114111, Finfish Fishing)                                                                                 114111\n",
       "(114112, Shellfish Fishing)                                                                               114112\n",
       "(114119, Other Marine Fishing)                                                                            114119\n",
       "(11421, Hunting and Trapping)                                                                              11421\n",
       "(114210, Hunting and Trapping)                                                                            114210\n",
       "(1151, Support Activities for Crop Production)                                                              1151\n",
       "(11511, Support Activities for Crop Production)                                                            11511\n",
       "(115111, Cotton Ginning)                                                                                  115111\n",
       "(115112, Soil Preparation, Planting, and Cultivating)                                                     115112\n",
       "(115113, Crop Harvesting, Primarily by Machine)                                                           115113\n",
       "(115114, Postharvest Crop Activities (except Cotton Ginning))                                             115114\n",
       "(115115, Farm Labor Contractors and Crew Leaders)                                                         115115\n",
       "(115116, Farm Management Services)                                                                        115116\n",
       "(1152, Support Activities for Animal Production)                                                            1152\n",
       "(11521, Support Activities for Animal Production)                                                          11521\n",
       "(115210, Support Activities for Animal Production)                                                        115210\n",
       "(1153, Support Activities for Forestry)                                                                     1153\n",
       "(11531, Support Activities for Forestry)                                                                   11531\n",
       "(115310, Support Activities for Forestry)                                                                 115310\n",
       "                                                                                                           ...  \n",
       "(326220, Rubber and Plastics Hoses and Belting Manufacturing)                                             326220\n",
       "(32629, Other Rubber Product Manufacturing)                                                                32629\n",
       "(326291, Rubber Product Manufacturing for Mechanical Use)                                                 326291\n",
       "(326299, All Other Rubber Product Manufacturing)                                                          326299\n",
       "(32711, Pottery, Ceramics, and Plumbing Fixture Manufacturing)                                             32711\n",
       "(327111, Vitreous China Plumbing Fixture and China and Earthenware Bathroom Accessories Manufacturing)    327111\n",
       "(327112, Vitreous China, Fine Earthenware, and Other Pottery Product Manufacturing)                       327112\n",
       "(327113, Porcelain Electrical Supply Manufacturing)                                                       327113\n",
       "(32712, Clay Building Material and Refractories Manufacturing)                                             32712\n",
       "(327121, Brick and Structural Clay Tile Manufacturing)                                                    327121\n",
       "(327122, Ceramic Wall and Floor Tile Manufacturing)                                                       327122\n",
       "(327123, Other Structural Clay Product Manufacturing)                                                     327123\n",
       "(327124, Clay Refractory Manufacturing)                                                                   327124\n",
       "(3272, Glass and Glass Product Manufacturing)                                                               3272\n",
       "(32721, Glass and Glass Product Manufacturing)                                                             32721\n",
       "(327211, Flat Glass Manufacturing)                                                                        327211\n",
       "(327212, Other Pressed and Blown Glass and Glassware Manufacturing)                                       327212\n",
       "(327213, Glass Container Manufacturing)                                                                   327213\n",
       "(327215, Glass Product Manufacturing Made of Purchased Glass)                                             327215\n",
       "(3273, Cement and Concrete Product Manufacturing)                                                           3273\n",
       "(32731, Cement Manufacturing)                                                                              32731\n",
       "(327310, Cement Manufacturing)                                                                            327310\n",
       "(32732, Ready-Mix Concrete Manufacturing)                                                                  32732\n",
       "(327320, Ready-Mix Concrete Manufacturing)                                                                327320\n",
       "(32733, Concrete Pipe, Brick, and Block Manufacturing)                                                     32733\n",
       "(327331, Concrete Block and Brick Manufacturing)                                                          327331\n",
       "(327332, Concrete Pipe Manufacturing)                                                                     327332\n",
       "(32739, Other Concrete Product Manufacturing)                                                              32739\n",
       "(327390, Other Concrete Product Manufacturing)                                                            327390\n",
       "(327410, Lime Manufacturing)                                                                              327410\n",
       "Name: naic_cd, dtype: object"
      ]
     },
     "execution_count": 129,
     "metadata": {},
     "output_type": "execute_result"
    }
   ],
   "source": [
    "names"
   ]
  },
  {
   "cell_type": "code",
   "execution_count": null,
   "metadata": {
    "collapsed": true
   },
   "outputs": [],
   "source": [
    "#get sample of similarity between nodes\n"
   ]
  },
  {
   "cell_type": "code",
   "execution_count": 198,
   "metadata": {
    "collapsed": true
   },
   "outputs": [],
   "source": [
    "sq_distMat.tofile('./../data/adjMat.csv',sep=';')"
   ]
  },
  {
   "cell_type": "code",
   "execution_count": 131,
   "metadata": {
    "collapsed": true
   },
   "outputs": [],
   "source": [
    "#np.savetxt('./../data/adjMat.txt',sq_distMat,delimiter=';',newline='\\n',fmt='%f')"
   ]
  },
  {
   "cell_type": "code",
   "execution_count": 161,
   "metadata": {
    "collapsed": false
   },
   "outputs": [],
   "source": [
    "#create dict that'll be our nodes and edges json:\n",
    "\n",
    "nodes = ntnl_flsa_summ.naic_cd[:100]"
   ]
  },
  {
   "cell_type": "code",
   "execution_count": 162,
   "metadata": {
    "collapsed": false
   },
   "outputs": [],
   "source": [
    "#edgelist\n",
    "from itertools import combinations"
   ]
  },
  {
   "cell_type": "code",
   "execution_count": 199,
   "metadata": {
    "collapsed": false
   },
   "outputs": [
    {
     "data": {
      "text/plain": [
       "array([152, 146,  51,  94, 116,  72, 111, 196, 141,  70])"
      ]
     },
     "execution_count": 199,
     "metadata": {},
     "output_type": "execute_result"
    }
   ],
   "source": [
    "np.random.randint(low=50,high=200, size=10)"
   ]
  },
  {
   "cell_type": "code",
   "execution_count": 234,
   "metadata": {
    "collapsed": false
   },
   "outputs": [],
   "source": [
    "#import csv\n",
    "#with open('test.csv', \"w\") as f:\n",
    "    #writer = csv.writer(f, lineterminator='\\n', delimiter=';')\n",
    "    #writer.writerow(['source','target'])\n",
    "\n",
    "\n",
    "#first hundred nodes\n",
    "links=[]\n",
    "for i in combinations(range(100),2):\n",
    "    source = i[0]\n",
    "    target = i[1]\n",
    "    val = sq_distMat[source, target]\n",
    "\n",
    "    if val>0.95:\n",
    "        links.append({'source':source, 'target':target, 'value':val*10})\n",
    "    #if val>0.95:\n",
    "       # writer.writerow([source, target])\n",
    "        \n",
    "        \n",
    "    "
   ]
  },
  {
   "cell_type": "code",
   "execution_count": 208,
   "metadata": {
    "collapsed": true
   },
   "outputs": [
    {
     "name": "stdout",
     "output_type": "stream",
     "text": [
      "{'source': 0, 'target': 9, 'value': 9.7588390362838915}\n",
      "{'source': 0, 'target': 12, 'value': 9.7835344227278771}\n",
      "{'source': 0, 'target': 13, 'value': 9.779341281787854}\n",
      "{'source': 0, 'target': 14, 'value': 9.9944547015119554}\n",
      "{'source': 0, 'target': 38, 'value': 9.8020969655273067}\n",
      "{'source': 0, 'target': 44, 'value': 9.9974625981158898}\n",
      "{'source': 0, 'target': 48, 'value': 7.4352165266995129}\n",
      "{'source': 0, 'target': 49, 'value': 9.4120862733332125}\n",
      "{'source': 0, 'target': 50, 'value': 9.5951946941881552}\n",
      "{'source': 0, 'target': 52, 'value': 7.0112340918158269}\n",
      "{'source': 0, 'target': 54, 'value': 9.6581662239647947}\n",
      "{'source': 0, 'target': 56, 'value': 9.9648908547423343}\n",
      "{'source': 0, 'target': 57, 'value': 9.4571729154351587}\n",
      "{'source': 0, 'target': 59, 'value': 9.9975514763211368}\n",
      "{'source': 0, 'target': 62, 'value': 6.7234434115887831}\n",
      "{'source': 0, 'target': 66, 'value': 8.7151417149899046}\n",
      "{'source': 0, 'target': 81, 'value': 5.3883544600260747}\n",
      "{'source': 0, 'target': 84, 'value': 8.9560851548968063}\n",
      "{'source': 0, 'target': 87, 'value': 9.0403921913355383}\n",
      "{'source': 1, 'target': 6, 'value': 7.8736268894765651}\n",
      "{'source': 1, 'target': 7, 'value': 7.1348686621000104}\n",
      "{'source': 1, 'target': 9, 'value': 9.8895053599823193}\n",
      "{'source': 1, 'target': 10, 'value': 5.8990940417743172}\n",
      "{'source': 1, 'target': 11, 'value': 5.0368122996562708}\n",
      "{'source': 1, 'target': 12, 'value': 9.7968501587714272}\n",
      "{'source': 1, 'target': 13, 'value': 9.7509358520252469}\n",
      "{'source': 1, 'target': 14, 'value': 9.9966117657170059}\n",
      "{'source': 1, 'target': 16, 'value': 5.0140124577053076}\n",
      "{'source': 1, 'target': 24, 'value': 7.6609977560304365}\n",
      "{'source': 1, 'target': 25, 'value': 5.7508969342844818}\n",
      "{'source': 1, 'target': 27, 'value': 5.0729123164650991}\n",
      "{'source': 1, 'target': 30, 'value': 7.5541004942872148}\n",
      "{'source': 1, 'target': 31, 'value': 5.2412392276629207}\n",
      "{'source': 1, 'target': 34, 'value': 7.8412750052279474}\n",
      "{'source': 1, 'target': 35, 'value': 7.4049273754152978}\n",
      "{'source': 1, 'target': 36, 'value': 6.5559119675371624}\n",
      "{'source': 1, 'target': 37, 'value': 6.0312811744506378}\n",
      "{'source': 1, 'target': 38, 'value': 9.919508654951402}\n",
      "{'source': 1, 'target': 39, 'value': 5.4954568589416048}\n",
      "{'source': 1, 'target': 40, 'value': 5.7020821373692865}\n",
      "{'source': 1, 'target': 42, 'value': 7.6491637937353643}\n",
      "{'source': 1, 'target': 43, 'value': 7.529598048619075}\n",
      "{'source': 1, 'target': 44, 'value': 9.9985270080939745}\n",
      "{'source': 1, 'target': 46, 'value': 8.0154728765619243}\n",
      "{'source': 1, 'target': 47, 'value': 6.4071447401683397}\n",
      "{'source': 1, 'target': 48, 'value': 7.4502000903793189}\n",
      "{'source': 1, 'target': 49, 'value': 9.6655179196291243}\n",
      "{'source': 1, 'target': 50, 'value': 9.6719792044040158}\n",
      "{'source': 1, 'target': 52, 'value': 8.3658334596797435}\n",
      "{'source': 1, 'target': 54, 'value': 9.6647394926899075}\n"
     ]
    }
   ],
   "source": [
    "for row in links[:50]:\n",
    "    print row"
   ]
  },
  {
   "cell_type": "code",
   "execution_count": 245,
   "metadata": {
    "collapsed": false
   },
   "outputs": [],
   "source": [
    "#nodes (first 100)\n",
    "nodes=[]\n",
    "for i in range(500):\n",
    "    #nodes.append({'name':ntnl_flsa_summ['naics_code_description'][i], 'group':np.random.randint(low=1,high=5)})\n",
    "    nodes.append({'name':ntnl_flsa_summ['naics_code_description'][i], 'group':dbscan.labels_[i]})"
   ]
  },
  {
   "cell_type": "code",
   "execution_count": 244,
   "metadata": {
    "collapsed": false
   },
   "outputs": [
    {
     "data": {
      "text/plain": [
       "1"
      ]
     },
     "execution_count": 244,
     "metadata": {},
     "output_type": "execute_result"
    }
   ],
   "source": [
    "flsa_clusters['cluster_assignment'][50]"
   ]
  },
  {
   "cell_type": "code",
   "execution_count": 136,
   "metadata": {
    "collapsed": false
   },
   "outputs": [],
   "source": [
    "#just print the indices of all similarity measures > 0\n",
    "# for i in range(sq_distMat.shape[0]):\n",
    "#     for j in range(sq_distMat.shape[1]):\n",
    "#         if sq_distMat[i,j]>0.95:\n",
    "#             print (i,j, sq_distMat[i,j])"
   ]
  },
  {
   "cell_type": "code",
   "execution_count": 246,
   "metadata": {
    "collapsed": false
   },
   "outputs": [],
   "source": [
    "ntnl_flsa_sim={'nodes':nodes, 'links':links}"
   ]
  },
  {
   "cell_type": "code",
   "execution_count": 247,
   "metadata": {
    "collapsed": true
   },
   "outputs": [],
   "source": [
    "import json"
   ]
  },
  {
   "cell_type": "code",
   "execution_count": 238,
   "metadata": {
    "collapsed": true
   },
   "outputs": [
    {
     "data": {
      "text/plain": [
       "{'links': [{'source': 0, 'target': 9, 'value': 9.7588390362838915},\n",
       "  {'source': 0, 'target': 12, 'value': 9.7835344227278771},\n",
       "  {'source': 0, 'target': 13, 'value': 9.779341281787854},\n",
       "  {'source': 0, 'target': 14, 'value': 9.9944547015119554},\n",
       "  {'source': 0, 'target': 38, 'value': 9.8020969655273067},\n",
       "  {'source': 0, 'target': 44, 'value': 9.9974625981158898},\n",
       "  {'source': 0, 'target': 50, 'value': 9.5951946941881552},\n",
       "  {'source': 0, 'target': 54, 'value': 9.6581662239647947},\n",
       "  {'source': 0, 'target': 56, 'value': 9.9648908547423343},\n",
       "  {'source': 0, 'target': 59, 'value': 9.9975514763211368},\n",
       "  {'source': 1, 'target': 9, 'value': 9.8895053599823193},\n",
       "  {'source': 1, 'target': 12, 'value': 9.7968501587714272},\n",
       "  {'source': 1, 'target': 13, 'value': 9.7509358520252469},\n",
       "  {'source': 1, 'target': 14, 'value': 9.9966117657170059},\n",
       "  {'source': 1, 'target': 38, 'value': 9.919508654951402},\n",
       "  {'source': 1, 'target': 44, 'value': 9.9985270080939745},\n",
       "  {'source': 1, 'target': 49, 'value': 9.6655179196291243},\n",
       "  {'source': 1, 'target': 50, 'value': 9.6719792044040158},\n",
       "  {'source': 1, 'target': 54, 'value': 9.6647394926899075},\n",
       "  {'source': 1, 'target': 56, 'value': 9.9792296758268613},\n",
       "  {'source': 1, 'target': 57, 'value': 9.6680059680567272},\n",
       "  {'source': 1, 'target': 59, 'value': 9.9971850952839585},\n",
       "  {'source': 2, 'target': 9, 'value': 9.9123695891678452},\n",
       "  {'source': 2, 'target': 12, 'value': 9.8014599650466163},\n",
       "  {'source': 2, 'target': 13, 'value': 9.7492098682252966},\n",
       "  {'source': 2, 'target': 14, 'value': 9.9970077962014123},\n",
       "  {'source': 2, 'target': 38, 'value': 9.9398302672853571},\n",
       "  {'source': 2, 'target': 44, 'value': 9.9987200669668681},\n",
       "  {'source': 2, 'target': 49, 'value': 9.7112916052991647},\n",
       "  {'source': 2, 'target': 50, 'value': 9.6885408035150427},\n",
       "  {'source': 2, 'target': 54, 'value': 9.6698068034962432},\n",
       "  {'source': 2, 'target': 56, 'value': 9.9818414185324063},\n",
       "  {'source': 2, 'target': 57, 'value': 9.7067240884608736},\n",
       "  {'source': 2, 'target': 59, 'value': 9.9971581093648219},\n",
       "  {'source': 2, 'target': 84, 'value': 9.5001727392466648},\n",
       "  {'source': 3, 'target': 9, 'value': 9.7969217841666456},\n",
       "  {'source': 3, 'target': 12, 'value': 9.7850462798832218},\n",
       "  {'source': 3, 'target': 13, 'value': 9.769602400043425},\n",
       "  {'source': 3, 'target': 14, 'value': 9.9948588296413146},\n",
       "  {'source': 3, 'target': 38, 'value': 9.8390480520231112},\n",
       "  {'source': 3, 'target': 44, 'value': 9.9978126835832395},\n",
       "  {'source': 3, 'target': 50, 'value': 9.6144424768226031},\n",
       "  {'source': 3, 'target': 54, 'value': 9.6623926719588464},\n",
       "  {'source': 3, 'target': 56, 'value': 9.9681641024228078},\n",
       "  {'source': 3, 'target': 57, 'value': 9.5166302802443816},\n",
       "  {'source': 3, 'target': 59, 'value': 9.9974294444994545},\n",
       "  {'source': 4, 'target': 9, 'value': 9.9043493751290459},\n",
       "  {'source': 4, 'target': 12, 'value': 9.7994506296758335},\n",
       "  {'source': 4, 'target': 13, 'value': 9.7499584383593358},\n",
       "  {'source': 4, 'target': 14, 'value': 9.9967903560455778},\n",
       "  {'source': 4, 'target': 38, 'value': 9.9336576599849273},\n",
       "  {'source': 4, 'target': 44, 'value': 9.9986684011180174},\n",
       "  {'source': 4, 'target': 49, 'value': 9.6921700708541287},\n",
       "  {'source': 4, 'target': 50, 'value': 9.6822364189103443},\n",
       "  {'source': 4, 'target': 54, 'value': 9.669697137014138},\n",
       "  {'source': 4, 'target': 56, 'value': 9.9806143389577926},\n",
       "  {'source': 4, 'target': 57, 'value': 9.692794553850403},\n",
       "  {'source': 4, 'target': 59, 'value': 9.9971697479699326},\n",
       "  {'source': 5, 'target': 9, 'value': 9.9480094818863058},\n",
       "  {'source': 5, 'target': 12, 'value': 9.8096538827664688},\n",
       "  {'source': 5, 'target': 13, 'value': 9.7481729297088933},\n",
       "  {'source': 5, 'target': 14, 'value': 9.9976098725679456},\n",
       "  {'source': 5, 'target': 38, 'value': 9.9716937594683124},\n",
       "  {'source': 5, 'target': 44, 'value': 9.9990293753239641},\n",
       "  {'source': 5, 'target': 49, 'value': 9.7823952084513},\n",
       "  {'source': 5, 'target': 50, 'value': 9.7157522272363082},\n",
       "  {'source': 5, 'target': 54, 'value': 9.6801674292349418},\n",
       "  {'source': 5, 'target': 56, 'value': 9.9858665911277438},\n",
       "  {'source': 5, 'target': 57, 'value': 9.7678735621645743},\n",
       "  {'source': 5, 'target': 59, 'value': 9.9971351307448781},\n",
       "  {'source': 5, 'target': 62, 'value': 9.6508435484420509},\n",
       "  {'source': 5, 'target': 84, 'value': 9.6281632599360538},\n",
       "  {'source': 6, 'target': 9, 'value': 9.6000252331150868},\n",
       "  {'source': 6, 'target': 12, 'value': 9.8839546665095988},\n",
       "  {'source': 6, 'target': 13, 'value': 9.9829613278287166},\n",
       "  {'source': 6, 'target': 14, 'value': 9.9924449778695053},\n",
       "  {'source': 6, 'target': 18, 'value': 9.575643128187318},\n",
       "  {'source': 6, 'target': 22, 'value': 9.7342081246380125},\n",
       "  {'source': 6, 'target': 38, 'value': 9.6520941139323888},\n",
       "  {'source': 6, 'target': 44, 'value': 9.996594436566566},\n",
       "  {'source': 6, 'target': 50, 'value': 9.6619326799578822},\n",
       "  {'source': 6, 'target': 54, 'value': 9.8610486627728395},\n",
       "  {'source': 6, 'target': 56, 'value': 9.951398672727807},\n",
       "  {'source': 6, 'target': 59, 'value': 9.9999340345462695},\n",
       "  {'source': 6, 'target': 87, 'value': 9.6442276620413168},\n",
       "  {'source': 7, 'target': 9, 'value': 9.5994425432351971},\n",
       "  {'source': 7, 'target': 12, 'value': 9.8703847657677475},\n",
       "  {'source': 7, 'target': 13, 'value': 9.9638460258786772},\n",
       "  {'source': 7, 'target': 14, 'value': 9.9923268091286506},\n",
       "  {'source': 7, 'target': 38, 'value': 9.6528745940111804},\n",
       "  {'source': 7, 'target': 44, 'value': 9.9965489920053425},\n",
       "  {'source': 7, 'target': 50, 'value': 9.6430658028697263},\n",
       "  {'source': 7, 'target': 54, 'value': 9.8377566582453095},\n",
       "  {'source': 7, 'target': 56, 'value': 9.9507322024064724},\n",
       "  {'source': 7, 'target': 59, 'value': 9.9997154839632447},\n",
       "  {'source': 7, 'target': 87, 'value': 9.57642230879107},\n",
       "  {'source': 8, 'target': 9, 'value': 9.6520435359667829},\n",
       "  {'source': 8, 'target': 12, 'value': 9.8033802217747485},\n",
       "  {'source': 8, 'target': 13, 'value': 9.8488932247288474},\n",
       "  {'source': 8, 'target': 14, 'value': 9.9926625218229752},\n",
       "  {'source': 8, 'target': 38, 'value': 9.7065306008866497},\n",
       "  {'source': 8, 'target': 44, 'value': 9.9967483395641228},\n",
       "  {'source': 8, 'target': 50, 'value': 9.5747277876205814},\n",
       "  {'source': 8, 'target': 54, 'value': 9.7142868270929768},\n",
       "  {'source': 8, 'target': 56, 'value': 9.9534670904446703},\n",
       "  {'source': 8, 'target': 59, 'value': 9.9983831000694181},\n",
       "  {'source': 9, 'target': 10, 'value': 9.5915217006294142},\n",
       "  {'source': 9, 'target': 11, 'value': 9.6004230137637929},\n",
       "  {'source': 9, 'target': 15, 'value': 9.843120489545079},\n",
       "  {'source': 9, 'target': 16, 'value': 9.617197855498258},\n",
       "  {'source': 9, 'target': 17, 'value': 9.7327166934670331},\n",
       "  {'source': 9, 'target': 18, 'value': 9.627416143355239},\n",
       "  {'source': 9, 'target': 19, 'value': 9.8526031498493953},\n",
       "  {'source': 9, 'target': 20, 'value': 9.9495795470476107},\n",
       "  {'source': 9, 'target': 21, 'value': 9.8645940308082825},\n",
       "  {'source': 9, 'target': 22, 'value': 9.9665540843631675},\n",
       "  {'source': 9, 'target': 23, 'value': 9.9479310833577799},\n",
       "  {'source': 9, 'target': 24, 'value': 9.6131199535047802},\n",
       "  {'source': 9, 'target': 26, 'value': 9.677606588731857},\n",
       "  {'source': 9, 'target': 27, 'value': 9.6111968962465841},\n",
       "  {'source': 9, 'target': 28, 'value': 9.7992773305871879},\n",
       "  {'source': 9, 'target': 29, 'value': 9.9290921729482804},\n",
       "  {'source': 9, 'target': 31, 'value': 9.5986933172261324},\n",
       "  {'source': 9, 'target': 33, 'value': 9.8697064080078327},\n",
       "  {'source': 9, 'target': 34, 'value': 9.5877882546897517},\n",
       "  {'source': 9, 'target': 35, 'value': 9.5872383079492458},\n",
       "  {'source': 9, 'target': 36, 'value': 9.5885004698802767},\n",
       "  {'source': 9, 'target': 37, 'value': 9.5914107838214608},\n",
       "  {'source': 9, 'target': 39, 'value': 9.5952578468268239},\n",
       "  {'source': 9, 'target': 40, 'value': 9.5936330443054647},\n",
       "  {'source': 9, 'target': 41, 'value': 9.64306094140791},\n",
       "  {'source': 9, 'target': 42, 'value': 9.5877013929403532},\n",
       "  {'source': 9, 'target': 43, 'value': 9.5871495405284808},\n",
       "  {'source': 9, 'target': 45, 'value': 9.6441475686256872},\n",
       "  {'source': 9, 'target': 53, 'value': 9.7496333738757777},\n",
       "  {'source': 9, 'target': 55, 'value': 9.5899570974513164},\n",
       "  {'source': 9, 'target': 58, 'value': 9.5971016444171457},\n",
       "  {'source': 9, 'target': 60, 'value': 9.7071897919675596},\n",
       "  {'source': 9, 'target': 61, 'value': 9.7389508537284026},\n",
       "  {'source': 9, 'target': 64, 'value': 9.6135926130531146},\n",
       "  {'source': 9, 'target': 67, 'value': 9.5965045346977167},\n",
       "  {'source': 9, 'target': 68, 'value': 9.6462888711042964},\n",
       "  {'source': 9, 'target': 69, 'value': 9.5947811713579352},\n",
       "  {'source': 9, 'target': 70, 'value': 9.5968972268008219},\n",
       "  {'source': 9, 'target': 71, 'value': 9.5989906559124432},\n",
       "  {'source': 9, 'target': 72, 'value': 9.5961934193088929},\n",
       "  {'source': 9, 'target': 73, 'value': 9.6091508741855201},\n",
       "  {'source': 9, 'target': 75, 'value': 9.5931602921871946},\n",
       "  {'source': 9, 'target': 76, 'value': 9.8066227919452231},\n",
       "  {'source': 9, 'target': 77, 'value': 9.5929853007534334},\n",
       "  {'source': 9, 'target': 78, 'value': 9.590960302722781},\n",
       "  {'source': 9, 'target': 80, 'value': 9.596182518594512},\n",
       "  {'source': 9, 'target': 82, 'value': 9.616113310261758},\n",
       "  {'source': 9, 'target': 85, 'value': 9.7779164233428375},\n",
       "  {'source': 9, 'target': 86, 'value': 9.7868879306568051},\n",
       "  {'source': 9, 'target': 88, 'value': 9.5932942223860529},\n",
       "  {'source': 9, 'target': 89, 'value': 9.6215865121357407},\n",
       "  {'source': 9, 'target': 90, 'value': 9.7387706310890785},\n",
       "  {'source': 9, 'target': 91, 'value': 9.8645103908917147},\n",
       "  {'source': 9, 'target': 92, 'value': 9.5889249952532936},\n",
       "  {'source': 9, 'target': 93, 'value': 9.6949072269325409},\n",
       "  {'source': 9, 'target': 94, 'value': 9.5926328023434202},\n",
       "  {'source': 9, 'target': 95, 'value': 9.6261567478563617},\n",
       "  {'source': 9, 'target': 96, 'value': 9.7811698959974205},\n",
       "  {'source': 9, 'target': 97, 'value': 9.600714565993405},\n",
       "  {'source': 9, 'target': 98, 'value': 9.7312550511151059},\n",
       "  {'source': 9, 'target': 99, 'value': 9.587315838243132},\n",
       "  {'source': 10, 'target': 12, 'value': 9.8492580274682862},\n",
       "  {'source': 10, 'target': 13, 'value': 9.9317452899441534},\n",
       "  {'source': 10, 'target': 14, 'value': 9.9925571431761284},\n",
       "  {'source': 10, 'target': 38, 'value': 9.6413330442966156},\n",
       "  {'source': 10, 'target': 44, 'value': 9.9963033470196727},\n",
       "  {'source': 10, 'target': 50, 'value': 9.6102520075892777},\n",
       "  {'source': 10, 'target': 54, 'value': 9.7860689856437588},\n",
       "  {'source': 10, 'target': 56, 'value': 9.9509983175929708},\n",
       "  {'source': 10, 'target': 59, 'value': 9.9993469438114921},\n",
       "  {'source': 11, 'target': 12, 'value': 9.8358901827374439},\n",
       "  {'source': 11, 'target': 13, 'value': 9.9083529336495886},\n",
       "  {'source': 11, 'target': 14, 'value': 9.9927103739782055},\n",
       "  {'source': 11, 'target': 38, 'value': 9.6492360126873749},\n",
       "  {'source': 11, 'target': 44, 'value': 9.9963051904040796},\n",
       "  {'source': 11, 'target': 50, 'value': 9.5958412443830561},\n",
       "  {'source': 11, 'target': 54, 'value': 9.758176555370687},\n",
       "  {'source': 11, 'target': 56, 'value': 9.9518095100908823},\n",
       "  {'source': 11, 'target': 59, 'value': 9.9990755924521384},\n",
       "  {'source': 12, 'target': 15, 'value': 9.7891863220851043},\n",
       "  {'source': 12, 'target': 16, 'value': 9.834621036807512},\n",
       "  {'source': 12, 'target': 17, 'value': 9.7858276173131546},\n",
       "  {'source': 12, 'target': 19, 'value': 9.7904804264041694},\n",
       "  {'source': 12, 'target': 20, 'value': 9.8100826726994548},\n",
       "  {'source': 12, 'target': 21, 'value': 9.7922133364641475},\n",
       "  {'source': 12, 'target': 22, 'value': 9.8146529561597085},\n",
       "  {'source': 12, 'target': 23, 'value': 9.8097136898544548},\n",
       "  {'source': 12, 'target': 24, 'value': 9.88127358694992},\n",
       "  {'source': 12, 'target': 26, 'value': 9.7991717347837373},\n",
       "  {'source': 12, 'target': 27, 'value': 9.8350989820627301},\n",
       "  {'source': 12, 'target': 28, 'value': 9.7849282563442124},\n",
       "  {'source': 12, 'target': 29, 'value': 9.8050154411838726},\n",
       "  {'source': 12, 'target': 31, 'value': 9.8394995440420843},\n",
       "  {'source': 12, 'target': 33, 'value': 9.7941141619123933},\n",
       "  {'source': 12, 'target': 34, 'value': 9.8845503082731785},\n",
       "  {'source': 12, 'target': 35, 'value': 9.8764877778036464},\n",
       "  {'source': 12, 'target': 36, 'value': 9.8611617287535527},\n",
       "  {'source': 12, 'target': 37, 'value': 9.852313141459101},\n",
       "  {'source': 12, 'target': 39, 'value': 9.8431257894479511},\n",
       "  {'source': 12, 'target': 40, 'value': 9.846665051520656},\n",
       "  {'source': 12, 'target': 41, 'value': 9.8026431526108002},\n",
       "  {'source': 12, 'target': 42, 'value': 9.8811695651726357},\n",
       "  {'source': 12, 'target': 43, 'value': 9.8786368420572153},\n",
       "  {'source': 12, 'target': 45, 'value': 9.8063706075161043},\n",
       "  {'source': 12, 'target': 53, 'value': 9.7835925087248672},\n",
       "  {'source': 12, 'target': 55, 'value': 9.8538136724057761},\n",
       "  {'source': 12, 'target': 58, 'value': 9.8413115433341964},\n",
       "  {'source': 12, 'target': 60, 'value': 9.7869683995781376},\n",
       "  {'source': 12, 'target': 61, 'value': 9.7839647603105568},\n",
       "  {'source': 12, 'target': 64, 'value': 9.8206174746829618},\n",
       "  {'source': 12, 'target': 67, 'value': 9.8393032990408305},\n",
       "  {'source': 12, 'target': 68, 'value': 9.8013108750557745},\n",
       "  {'source': 12, 'target': 69, 'value': 9.8901873718462667},\n",
       "  {'source': 12, 'target': 70, 'value': 9.881950916653059},\n",
       "  {'source': 12, 'target': 71, 'value': 9.8439224839291626},\n",
       "  {'source': 12, 'target': 72, 'value': 9.8901201879472076},\n",
       "  {'source': 12, 'target': 73, 'value': 9.8517065797446151},\n",
       "  {'source': 12, 'target': 75, 'value': 9.8830841594445555},\n",
       "  {'source': 12, 'target': 76, 'value': 9.787967279176943},\n",
       "  {'source': 12, 'target': 77, 'value': 9.8795128931008875},\n",
       "  {'source': 12, 'target': 78, 'value': 9.8858646472787726},\n",
       "  {'source': 12, 'target': 80, 'value': 9.8497746419287715},\n",
       "  {'source': 12, 'target': 82, 'value': 9.8193407878039345},\n",
       "  {'source': 12, 'target': 85, 'value': 9.7837668858648783},\n",
       "  {'source': 12, 'target': 86, 'value': 9.7856057652944344},\n",
       "  {'source': 12, 'target': 88, 'value': 9.8566453124363278},\n",
       "  {'source': 12, 'target': 89, 'value': 9.8163541053701593},\n",
       "  {'source': 12, 'target': 90, 'value': 9.7840195596747179},\n",
       "  {'source': 12, 'target': 91, 'value': 9.7926866920329125},\n",
       "  {'source': 12, 'target': 92, 'value': 9.8578585642247383},\n",
       "  {'source': 12, 'target': 93, 'value': 9.7897315003756109},\n",
       "  {'source': 12, 'target': 94, 'value': 9.8468735634208002},\n",
       "  {'source': 12, 'target': 95, 'value': 9.8112316238086006},\n",
       "  {'source': 12, 'target': 96, 'value': 9.7842089385900444},\n",
       "  {'source': 12, 'target': 97, 'value': 9.8336587990750566},\n",
       "  {'source': 12, 'target': 98, 'value': 9.7849721060431065},\n",
       "  {'source': 12, 'target': 99, 'value': 9.8823476096418545},\n",
       "  {'source': 13, 'target': 15, 'value': 9.7582218454290199},\n",
       "  {'source': 13, 'target': 16, 'value': 9.9072682500821259},\n",
       "  {'source': 13, 'target': 17, 'value': 9.7946004828343209},\n",
       "  {'source': 13, 'target': 19, 'value': 9.7558683291951684},\n",
       "  {'source': 13, 'target': 20, 'value': 9.7481652174775455},\n",
       "  {'source': 13, 'target': 21, 'value': 9.7545121266929673},\n",
       "  {'source': 13, 'target': 22, 'value': 9.7483773702091305},\n",
       "  {'source': 13, 'target': 23, 'value': 9.7481622614777823},\n",
       "  {'source': 13, 'target': 24, 'value': 9.9765565855315828},\n",
       "  {'source': 13, 'target': 26, 'value': 9.8352026010816616},\n",
       "  {'source': 13, 'target': 27, 'value': 9.9092163301590759},\n",
       "  {'source': 13, 'target': 28, 'value': 9.7680231038829266},\n",
       "  {'source': 13, 'target': 29, 'value': 9.7485163034339095},\n",
       "  {'source': 13, 'target': 30, 'value': 9.5632005704122278},\n",
       "  {'source': 13, 'target': 31, 'value': 9.9137633890558323},\n",
       "  {'source': 13, 'target': 33, 'value': 9.7532298505804818},\n",
       "  {'source': 13, 'target': 34, 'value': 9.9823295904759153},\n",
       "  {'source': 13, 'target': 35, 'value': 9.9710608360849804},\n",
       "  {'source': 13, 'target': 36, 'value': 9.9489365978401114},\n",
       "  {'source': 13, 'target': 37, 'value': 9.9350055105223589},\n",
       "  {'source': 13, 'target': 39, 'value': 9.9207799707214175},\n",
       "  {'source': 13, 'target': 40, 'value': 9.9262727039049761},\n",
       "  {'source': 13, 'target': 41, 'value': 9.8478047494882119},\n",
       "  {'source': 13, 'target': 42, 'value': 9.9773159430524458},\n",
       "  {'source': 13, 'target': 43, 'value': 9.9743328284460855},\n",
       "  {'source': 13, 'target': 45, 'value': 9.8496822454069139},\n",
       "  {'source': 13, 'target': 53, 'value': 9.7831842459486005},\n",
       "  {'source': 13, 'target': 55, 'value': 9.939415759416562},\n",
       "  {'source': 13, 'target': 58, 'value': 9.9171058949417077},\n",
       "  {'source': 13, 'target': 60, 'value': 9.8018098969631602},\n",
       "  {'source': 13, 'target': 61, 'value': 9.7877532496760473},\n",
       "  {'source': 13, 'target': 63, 'value': 9.5311418451310104},\n",
       "  {'source': 13, 'target': 64, 'value': 9.8827540695687013},\n",
       "  {'source': 13, 'target': 67, 'value': 9.9160791816819849},\n",
       "  {'source': 13, 'target': 68, 'value': 9.84497049455784},\n",
       "  {'source': 13, 'target': 69, 'value': 9.9850675636761732},\n",
       "  {'source': 13, 'target': 70, 'value': 9.9719286094253317},\n",
       "  {'source': 13, 'target': 71, 'value': 9.9189494695977949},\n",
       "  {'source': 13, 'target': 72, 'value': 9.9840995872174183},\n",
       "  {'source': 13, 'target': 73, 'value': 9.9236668097097329},\n",
       "  {'source': 13, 'target': 75, 'value': 9.975802446005364},\n",
       "  {'source': 13, 'target': 76, 'value': 9.7658786185989293},\n",
       "  {'source': 13, 'target': 77, 'value': 9.970802418551111},\n",
       "  {'source': 13, 'target': 78, 'value': 9.981330235202778},\n",
       "  {'source': 13, 'target': 80, 'value': 9.9282090568104238},\n",
       "  {'source': 13, 'target': 82, 'value': 9.8824715725515464},\n",
       "  {'source': 13, 'target': 85, 'value': 9.7733501898595705},\n",
       "  {'source': 13, 'target': 86, 'value': 9.7703655387426949},\n",
       "  {'source': 13, 'target': 88, 'value': 9.9445383764104101},\n",
       "  {'source': 13, 'target': 89, 'value': 9.8768383892328},\n",
       "  {'source': 13, 'target': 90, 'value': 9.7880931205425092},\n",
       "  {'source': 13, 'target': 91, 'value': 9.7537712359269779},\n",
       "  {'source': 13, 'target': 92, 'value': 9.9456766849128204},\n",
       "  {'source': 13, 'target': 93, 'value': 9.8132832360361846},\n",
       "  {'source': 13, 'target': 94, 'value': 9.927758379064791},\n",
       "  {'source': 13, 'target': 95, 'value': 9.8658620116046798},\n",
       "  {'source': 13, 'target': 96, 'value': 9.7716858887432636},\n",
       "  {'source': 13, 'target': 97, 'value': 9.9059765530368189},\n",
       "  {'source': 13, 'target': 98, 'value': 9.7901314545303322},\n",
       "  {'source': 13, 'target': 99, 'value': 9.9807760123273823},\n",
       "  {'source': 14, 'target': 15, 'value': 9.9956736896892338},\n",
       "  {'source': 14, 'target': 16, 'value': 9.992232728569725},\n",
       "  {'source': 14, 'target': 17, 'value': 9.9937923449082025},\n",
       "  {'source': 14, 'target': 19, 'value': 9.995914354861517},\n",
       "  {'source': 14, 'target': 20, 'value': 9.9976432357023164},\n",
       "  {'source': 14, 'target': 21, 'value': 9.9960602736499453},\n",
       "  {'source': 14, 'target': 22, 'value': 9.9979616557733682},\n",
       "  {'source': 14, 'target': 23, 'value': 9.9976224670405109},\n",
       "  {'source': 14, 'target': 24, 'value': 9.9923968482510421},\n",
       "  {'source': 14, 'target': 26, 'value': 9.9928611404369363},\n",
       "  {'source': 14, 'target': 27, 'value': 9.9922399319132555},\n",
       "  {'source': 14, 'target': 28, 'value': 9.9949546770430633},\n",
       "  {'source': 14, 'target': 29, 'value': 9.9972659762535159},\n",
       "  {'source': 14, 'target': 31, 'value': 9.9927505845294959},\n",
       "  {'source': 14, 'target': 33, 'value': 9.9963851314354653},\n",
       "  {'source': 14, 'target': 34, 'value': 9.9928930661653901},\n",
       "  {'source': 14, 'target': 35, 'value': 9.9928180809641116},\n",
       "  {'source': 14, 'target': 36, 'value': 9.9926974573432741},\n",
       "  {'source': 14, 'target': 37, 'value': 9.9927014123036528},\n",
       "  {'source': 14, 'target': 39, 'value': 9.9926606865011998},\n",
       "  {'source': 14, 'target': 40, 'value': 9.9926783406867621},\n",
       "  {'source': 14, 'target': 41, 'value': 9.9928695030665704},\n",
       "  {'source': 14, 'target': 42, 'value': 9.9928892610601245},\n",
       "  {'source': 14, 'target': 43, 'value': 9.9928147263329627},\n",
       "  {'source': 14, 'target': 45, 'value': 9.9932426456118435},\n",
       "  {'source': 14, 'target': 53, 'value': 9.9942653209839705},\n",
       "  {'source': 14, 'target': 55, 'value': 9.9925031572044372},\n",
       "  {'source': 14, 'target': 58, 'value': 9.9927203272017255},\n",
       "  {'source': 14, 'target': 60, 'value': 9.9937950391149393},\n",
       "  {'source': 14, 'target': 61, 'value': 9.9940828690224226},\n",
       "  {'source': 14, 'target': 64, 'value': 9.9926947286941985},\n",
       "  {'source': 14, 'target': 67, 'value': 9.99252118925844},\n",
       "  {'source': 14, 'target': 68, 'value': 9.992884379349082},\n",
       "  {'source': 14, 'target': 69, 'value': 9.9933439409466516},\n",
       "  {'source': 14, 'target': 70, 'value': 9.9933798275904753},\n",
       "  {'source': 14, 'target': 71, 'value': 9.9928987427442113},\n",
       "  {'source': 14, 'target': 72, 'value': 9.9934042492610864},\n",
       "  {'source': 14, 'target': 73, 'value': 9.9934090713152539},\n",
       "  {'source': 14, 'target': 75, 'value': 9.9932331110290633},\n",
       "  {'source': 14, 'target': 76, 'value': 9.9955034383096102},\n",
       "  {'source': 14, 'target': 77, 'value': 9.9931992232976725},\n",
       "  {'source': 14, 'target': 78, 'value': 9.9931382292071227},\n",
       "  {'source': 14, 'target': 80, 'value': 9.9929117119316846},\n",
       "  {'source': 14, 'target': 82, 'value': 9.9924609796636261},\n",
       "  {'source': 14, 'target': 85, 'value': 9.9946921108900497},\n",
       "  {'source': 14, 'target': 86, 'value': 9.9951001175237},\n",
       "  {'source': 14, 'target': 88, 'value': 9.9923313408596766},\n",
       "  {'source': 14, 'target': 89, 'value': 9.9924579224646699},\n",
       "  {'source': 14, 'target': 90, 'value': 9.9940593826426873},\n",
       "  {'source': 14, 'target': 91, 'value': 9.9962179695925606},\n",
       "  {'source': 14, 'target': 92, 'value': 9.9925059391018749},\n",
       "  {'source': 14, 'target': 93, 'value': 9.9932932298772776},\n",
       "  {'source': 14, 'target': 94, 'value': 9.9925756164112141},\n",
       "  {'source': 14, 'target': 95, 'value': 9.9927058084304772},\n",
       "  {'source': 14, 'target': 96, 'value': 9.9948663737542667},\n",
       "  {'source': 14, 'target': 97, 'value': 9.9925995941661849},\n",
       "  {'source': 14, 'target': 98, 'value': 9.9941684880376549},\n",
       "  {'source': 14, 'target': 99, 'value': 9.9927163045619398},\n",
       "  {'source': 15, 'target': 38, 'value': 9.8799239417744289},\n",
       "  {'source': 15, 'target': 44, 'value': 9.9981743265538938},\n",
       "  {'source': 15, 'target': 49, 'value': 9.5681585073482704},\n",
       "  {'source': 15, 'target': 50, 'value': 9.6407795920210262},\n",
       "  {'source': 15, 'target': 54, 'value': 9.6619739935240201},\n",
       "  {'source': 15, 'target': 56, 'value': 9.9734294576420819},\n",
       "  {'source': 15, 'target': 57, 'value': 9.5907436029582946},\n",
       "  {'source': 15, 'target': 59, 'value': 9.9972841987433121},\n",
       "  {'source': 16, 'target': 38, 'value': 9.6734943496536765},\n",
       "  {'source': 16, 'target': 44, 'value': 9.9965999542738295},\n",
       "  {'source': 16, 'target': 50, 'value': 9.6020310895518399},\n",
       "  {'source': 16, 'target': 54, 'value': 9.7766080638516879},\n",
       "  {'source': 16, 'target': 56, 'value': 9.950672811121887},\n",
       "  {'source': 16, 'target': 59, 'value': 9.999063056643255},\n",
       "  {'source': 17, 'target': 38, 'value': 9.7814455915999545},\n",
       "  {'source': 17, 'target': 44, 'value': 9.9973266919512422},\n",
       "  {'source': 17, 'target': 50, 'value': 9.586792776686627},\n",
       "  {'source': 17, 'target': 54, 'value': 9.6738078460968762},\n",
       "  {'source': 17, 'target': 56, 'value': 9.9611904089554049},\n",
       "  {'source': 17, 'target': 59, 'value': 9.997736272804179},\n",
       "  {'source': 18, 'target': 34, 'value': 9.5542551527233996},\n",
       "  {'source': 18, 'target': 63, 'value': 9.5138020571006212},\n",
       "  {'source': 18, 'target': 69, 'value': 9.6555141372372919},\n",
       "  {'source': 18, 'target': 72, 'value': 9.6164660737443732},\n",
       "  {'source': 18, 'target': 78, 'value': 9.5119924162356959},\n",
       "  {'source': 19, 'target': 38, 'value': 9.8874206761663199},\n",
       "  {'source': 19, 'target': 44, 'value': 9.998233923871469},\n",
       "  {'source': 19, 'target': 49, 'value': 9.589804614793163},\n",
       "  {'source': 19, 'target': 50, 'value': 9.6467549275959215},\n",
       "  {'source': 19, 'target': 54, 'value': 9.6604817502064186},\n",
       "  {'source': 19, 'target': 56, 'value': 9.9748019408211981},\n",
       "  {'source': 19, 'target': 57, 'value': 9.6063432883892599},\n",
       "  {'source': 19, 'target': 59, 'value': 9.997253689424074},\n",
       "  {'source': 20, 'target': 38, 'value': 9.9730142593391236},\n",
       "  {'source': 20, 'target': 44, 'value': 9.9990417662475846},\n",
       "  {'source': 20, 'target': 49, 'value': 9.7858053733708843},\n",
       "  {'source': 20, 'target': 50, 'value': 9.7170403882021681},\n",
       "  {'source': 20, 'target': 54, 'value': 9.6805449164452639},\n",
       "  {'source': 20, 'target': 56, 'value': 9.9860714465043596},\n",
       "  {'source': 20, 'target': 57, 'value': 9.7706245693471967},\n",
       "  {'source': 20, 'target': 59, 'value': 9.9971345082706193},\n",
       "  {'source': 20, 'target': 62, 'value': 9.6748792868580846},\n",
       "  {'source': 20, 'target': 84, 'value': 9.634503645170005},\n",
       "  {'source': 21, 'target': 38, 'value': 9.8988294944697657},\n",
       "  {'source': 21, 'target': 44, 'value': 9.9983459782262756},\n",
       "  {'source': 21, 'target': 49, 'value': 9.6112778690152805},\n",
       "  {'source': 21, 'target': 50, 'value': 9.6545337996972478},\n",
       "  {'source': 21, 'target': 54, 'value': 9.6637100200260644},\n",
       "  {'source': 21, 'target': 56, 'value': 9.9759220077005182},\n",
       "  {'source': 21, 'target': 57, 'value': 9.6260748494283916},\n",
       "  {'source': 21, 'target': 59, 'value': 9.9972347750889288},\n",
       "  {'source': 22, 'target': 34, 'value': 9.7110190839806094},\n",
       "  {'source': 22, 'target': 38, 'value': 9.9878054608353146},\n",
       "  {'source': 22, 'target': 42, 'value': 9.5107595786099708},\n",
       "  {'source': 22, 'target': 44, 'value': 9.9991850803484112},\n",
       "  {'source': 22, 'target': 46, 'value': 9.7708998488782832},\n",
       "  {'source': 22, 'target': 49, 'value': 9.8210701951850137},\n",
       "  {'source': 22, 'target': 50, 'value': 9.7309011172356907},\n",
       "  {'source': 22, 'target': 54, 'value': 9.6858114427571262},\n",
       "  {'source': 22, 'target': 56, 'value': 9.9881207226186213},\n",
       "  {'source': 22, 'target': 57, 'value': 9.8002954254191099},\n",
       "  {'source': 22, 'target': 59, 'value': 9.9971314564493436},\n",
       "  {'source': 22, 'target': 62, 'value': 9.9328489870020302},\n",
       "  {'source': 22, 'target': 63, 'value': 9.8028232882733679},\n",
       "  {'source': 22, 'target': 69, 'value': 9.8081951115237374},\n",
       "  {'source': 22, 'target': 72, 'value': 9.7675143788158909},\n",
       "  {'source': 22, 'target': 78, 'value': 9.6648817581368611},\n",
       "  {'source': 22, 'target': 84, 'value': 9.6987773935143746},\n",
       "  {'source': 22, 'target': 99, 'value': 9.6520465233584538},\n",
       "  {'source': 23, 'target': 38, 'value': 9.971454268060187},\n",
       "  {'source': 23, 'target': 44, 'value': 9.9990258892938737},\n",
       "  {'source': 23, 'target': 49, 'value': 9.782784805879519},\n",
       "  {'source': 23, 'target': 50, 'value': 9.715791510354693},\n",
       "  {'source': 23, 'target': 54, 'value': 9.679865339682701},\n",
       "  {'source': 23, 'target': 56, 'value': 9.985912965135098},\n",
       "  {'source': 23, 'target': 57, 'value': 9.7678073725438459},\n",
       "  {'source': 23, 'target': 59, 'value': 9.9971349388069406},\n",
       "  {'source': 23, 'target': 62, 'value': 9.6501094253828761},\n",
       "  {'source': 23, 'target': 84, 'value': 9.6292991811292303},\n",
       "  {'source': 24, 'target': 38, 'value': 9.6670738337786108},\n",
       "  {'source': 24, 'target': 44, 'value': 9.9967420746752378},\n",
       "  {'source': 24, 'target': 50, 'value': 9.6642541233974146},\n",
       "  {'source': 24, 'target': 54, 'value': 9.8620076954665201},\n",
       "  {'source': 24, 'target': 56, 'value': 9.9517531402501476},\n",
       "  {'source': 24, 'target': 59, 'value': 9.9998582488300762},\n",
       "  {'source': 24, 'target': 87, 'value': 9.636123241679396},\n",
       "  {'source': 26, 'target': 38, 'value': 9.7322118818524856},\n",
       "  {'source': 26, 'target': 44, 'value': 9.9969746177504764},\n",
       "  {'source': 26, 'target': 50, 'value': 9.5805035811303565},\n",
       "  {'source': 26, 'target': 54, 'value': 9.7090842693878781},\n",
       "  {'source': 26, 'target': 56, 'value': 9.9553118412144226},\n",
       "  {'source': 26, 'target': 59, 'value': 9.998219548102302},\n",
       "  {'source': 27, 'target': 38, 'value': 9.6668094346251081},\n",
       "  {'source': 27, 'target': 44, 'value': 9.9965320516621308},\n",
       "  {'source': 27, 'target': 50, 'value': 9.5999429358264337},\n",
       "  {'source': 27, 'target': 54, 'value': 9.7751502281004932},\n",
       "  {'source': 27, 'target': 56, 'value': 9.9504425423699754},\n",
       "  {'source': 27, 'target': 59, 'value': 9.9990865551461088},\n",
       "  {'source': 28, 'target': 38, 'value': 9.8404705091365248},\n",
       "  {'source': 28, 'target': 44, 'value': 9.9978171088989178},\n",
       "  {'source': 28, 'target': 50, 'value': 9.6153016359099084},\n",
       "  {'source': 28, 'target': 54, 'value': 9.6600341960319618},\n",
       "  {'source': 28, 'target': 56, 'value': 9.9686395982435592},\n",
       "  {'source': 28, 'target': 57, 'value': 9.5201711330448973},\n",
       "  {'source': 28, 'target': 59, 'value': 9.9974102029829321},\n",
       "  {'source': 29, 'target': 38, 'value': 9.9550767121564867},\n",
       "  {'source': 29, 'target': 44, 'value': 9.9988693566835902},\n",
       "  {'source': 29, 'target': 49, 'value': 9.7436508876038133},\n",
       "  {'source': 29, 'target': 50, 'value': 9.700924689626202},\n",
       "  {'source': 29, 'target': 54, 'value': 9.6748540735193487},\n",
       "  {'source': 29, 'target': 56, 'value': 9.9836315299697063},\n",
       "  {'source': 29, 'target': 57, 'value': 9.7351744834999394},\n",
       "  {'source': 29, 'target': 59, 'value': 9.9971451146722199},\n",
       "  {'source': 29, 'target': 84, 'value': 9.5577223436112764},\n",
       "  {'source': 31, 'target': 38, 'value': 9.6468493644872222},\n",
       "  {'source': 31, 'target': 44, 'value': 9.9962937337324345},\n",
       "  {'source': 31, 'target': 50, 'value': 9.5999934857747746},\n",
       "  {'source': 31, 'target': 54, 'value': 9.7634153941112061},\n",
       "  {'source': 31, 'target': 56, 'value': 9.9519378369197931},\n",
       "  {'source': 31, 'target': 59, 'value': 9.9991377790553653},\n",
       "  {'source': 33, 'target': 38, 'value': 9.9004967822482186},\n",
       "  {'source': 33, 'target': 44, 'value': 9.9983393246749692},\n",
       "  {'source': 33, 'target': 49, 'value': 9.6306375852004233},\n",
       "  {'source': 33, 'target': 50, 'value': 9.6592992472252046},\n",
       "  {'source': 33, 'target': 54, 'value': 9.659211510744889},\n",
       "  {'source': 33, 'target': 56, 'value': 9.9774376105596687},\n",
       "  {'source': 33, 'target': 57, 'value': 9.6355322245415049},\n",
       "  {'source': 33, 'target': 59, 'value': 9.9972168574112104},\n",
       "  {'source': 34, 'target': 38, 'value': 9.6331840377654849},\n",
       "  {'source': 34, 'target': 44, 'value': 9.996355020109748},\n",
       "  {'source': 34, 'target': 50, 'value': 9.6569062776030297},\n",
       "  {'source': 34, 'target': 54, 'value': 9.8438538443253005},\n",
       "  {'source': 34, 'target': 56, 'value': 9.9526114726664634},\n",
       "  {'source': 34, 'target': 59, 'value': 9.9999261701880702},\n",
       "  {'source': 34, 'target': 87, 'value': 9.6202562676779255},\n",
       "  {'source': 35, 'target': 38, 'value': 9.633481906455744},\n",
       "  {'source': 35, 'target': 44, 'value': 9.9963267832323748},\n",
       "  {'source': 35, 'target': 50, 'value': 9.6456061995158358},\n",
       "  {'source': 35, 'target': 54, 'value': 9.8300895333757659},\n",
       "  {'source': 35, 'target': 56, 'value': 9.9521879114428824},\n",
       "  {'source': 35, 'target': 59, 'value': 9.9997974078881828},\n",
       "  {'source': 35, 'target': 87, 'value': 9.5801588830897852},\n",
       "  {'source': 36, 'target': 38, 'value': 9.6363183063178663},\n",
       "  {'source': 36, 'target': 44, 'value': 9.9962944644643326},\n",
       "  {'source': 36, 'target': 50, 'value': 9.6251676272650695},\n",
       "  {'source': 36, 'target': 54, 'value': 9.8040804178056913},\n",
       "  {'source': 36, 'target': 56, 'value': 9.9515698682905303},\n",
       "  {'source': 36, 'target': 59, 'value': 9.9995439652673035},\n",
       "  {'source': 36, 'target': 87, 'value': 9.5034850691383213},\n",
       "  {'source': 37, 'target': 38, 'value': 9.639458235499859},\n",
       "  {'source': 37, 'target': 44, 'value': 9.9962839032445157},\n",
       "  {'source': 37, 'target': 50, 'value': 9.6143220257081001},\n",
       "  {'source': 37, 'target': 54, 'value': 9.7875668036755297},\n",
       "  {'source': 37, 'target': 56, 'value': 9.9515958053435689},\n",
       "  {'source': 37, 'target': 59, 'value': 9.9993834236651882},\n",
       "  {'source': 38, 'target': 39, 'value': 9.644171754792465},\n",
       "  {'source': 38, 'target': 40, 'value': 9.6421750301124405},\n",
       "  {'source': 38, 'target': 41, 'value': 9.6941330123187086},\n",
       "  {'source': 38, 'target': 42, 'value': 9.6331304098449735},\n",
       "  {'source': 38, 'target': 43, 'value': 9.633428000707605},\n",
       "  {'source': 38, 'target': 45, 'value': 9.6907885478009188},\n",
       "  {'source': 38, 'target': 53, 'value': 9.7942820263075685},\n",
       "  {'source': 38, 'target': 55, 'value': 9.6402762754432061},\n",
       "  {'source': 38, 'target': 58, 'value': 9.6454702450451784},\n",
       "  {'source': 38, 'target': 60, 'value': 9.7533484387928233},\n",
       "  {'source': 38, 'target': 61, 'value': 9.7847593781508824},\n",
       "  {'source': 38, 'target': 64, 'value': 9.6638858383033099},\n",
       "  {'source': 38, 'target': 67, 'value': 9.6472361753289952},\n",
       "  {'source': 38, 'target': 68, 'value': 9.6974990758731128},\n",
       "  {'source': 38, 'target': 69, 'value': 9.6353892187664343},\n",
       "  {'source': 38, 'target': 70, 'value': 9.6372678387937576},\n",
       "  {'source': 38, 'target': 71, 'value': 9.6453778625312445},\n",
       "  {'source': 38, 'target': 72, 'value': 9.6362074139426532},\n",
       "  {'source': 38, 'target': 73, 'value': 9.6503441835524608},\n",
       "  {'source': 38, 'target': 75, 'value': 9.6349474186184985},\n",
       "  {'source': 38, 'target': 76, 'value': 9.8418678165191036},\n",
       "  {'source': 38, 'target': 77, 'value': 9.6351629870557272},\n",
       "  {'source': 38, 'target': 78, 'value': 9.6336877479966869},\n",
       "  {'source': 38, 'target': 80, 'value': 9.6421402146791468},\n",
       "  {'source': 38, 'target': 82, 'value': 9.6695021342903402},\n",
       "  {'source': 38, 'target': 85, 'value': 9.8201809808098304},\n",
       "  {'source': 38, 'target': 86, 'value': 9.8250785741039142},\n",
       "  {'source': 38, 'target': 88, 'value': 9.6460414182729135},\n",
       "  {'source': 38, 'target': 89, 'value': 9.6755529956941935},\n",
       "  {'source': 38, 'target': 90, 'value': 9.7848473174081185},\n",
       "  {'source': 38, 'target': 91, 'value': 9.8968177554406402},\n",
       "  {'source': 38, 'target': 92, 'value': 9.639112983060226},\n",
       "  {'source': 38, 'target': 93, 'value': 9.7459588609567902},\n",
       "  {'source': 38, 'target': 94, 'value': 9.6423265436818433},\n",
       "  {'source': 38, 'target': 95, 'value': 9.677552299089843},\n",
       "  {'source': 38, 'target': 96, 'value': 9.8216364774845069},\n",
       "  {'source': 38, 'target': 97, 'value': 9.6509026815945216},\n",
       "  {'source': 38, 'target': 98, 'value': 9.7752568088419594},\n",
       "  {'source': 38, 'target': 99, 'value': 9.6348143098941037},\n",
       "  {'source': 39, 'target': 44, 'value': 9.9962926213687808},\n",
       "  {'source': 39, 'target': 50, 'value': 9.6034638040541171},\n",
       "  {'source': 39, 'target': 54, 'value': 9.7721141524233968},\n",
       "  {'source': 39, 'target': 56, 'value': 9.9514845871477249},\n",
       "  {'source': 39, 'target': 59, 'value': 9.9992196182323099},\n",
       "  {'source': 40, 'target': 44, 'value': 9.9962871817509562},\n",
       "  {'source': 40, 'target': 50, 'value': 9.6075803844187284},\n",
       "  {'source': 40, 'target': 54, 'value': 9.7779541229445162},\n",
       "  {'source': 40, 'target': 56, 'value': 9.951528785763518},\n",
       "  {'source': 40, 'target': 59, 'value': 9.9992828808481597},\n",
       "  {'source': 41, 'target': 44, 'value': 9.9965947862824969},\n",
       "  {'source': 41, 'target': 50, 'value': 9.5694921444068299},\n",
       "  {'source': 41, 'target': 54, 'value': 9.7031408657448388},\n",
       "  {'source': 41, 'target': 56, 'value': 9.9538669530674415},\n",
       "  {'source': 41, 'target': 59, 'value': 9.9983709764237858},\n",
       "  {'source': 42, 'target': 44, 'value': 9.9963385021187747},\n",
       "  {'source': 42, 'target': 50, 'value': 9.6522179006869511},\n",
       "  {'source': 42, 'target': 54, 'value': 9.8372751080052083},\n",
       "  {'source': 42, 'target': 56, 'value': 9.952547810310806},\n",
       "  {'source': 42, 'target': 59, 'value': 9.9998686515155768},\n",
       "  {'source': 42, 'target': 87, 'value': 9.6020359253367875},\n",
       "  {'source': 43, 'target': 44, 'value': 9.9963369583755917},\n",
       "  {'source': 43, 'target': 50, 'value': 9.6485240084046158},\n",
       "  {'source': 43, 'target': 54, 'value': 9.8343987801572865},\n",
       "  {'source': 43, 'target': 56, 'value': 9.9521995512242682},\n",
       "  {'source': 43, 'target': 59, 'value': 9.9998350135414285},\n",
       "  {'source': 43, 'target': 87, 'value': 9.592000620213728},\n",
       "  {'source': 44, 'target': 45, 'value': 9.9965399467705236},\n",
       "  {'source': 44, 'target': 53, 'value': 9.9974009955661298},\n",
       "  {'source': 44, 'target': 55, 'value': 9.9963199077543781},\n",
       "  {'source': 44, 'target': 58, 'value': 9.9962912527988905},\n",
       "  {'source': 44, 'target': 60, 'value': 9.9970399114341024},\n",
       "  {'source': 44, 'target': 61, 'value': 9.9973224560339329},\n",
       "  {'source': 44, 'target': 64, 'value': 9.9963851896847729},\n",
       "  {'source': 44, 'target': 67, 'value': 9.9963202308167745},\n",
       "  {'source': 44, 'target': 68, 'value': 9.9966218087635301},\n",
       "  {'source': 44, 'target': 69, 'value': 9.9963591565343357},\n",
       "  {'source': 44, 'target': 70, 'value': 9.9963351855369869},\n",
       "  {'source': 44, 'target': 71, 'value': 9.9962846992680561},\n",
       "  {'source': 44, 'target': 72, 'value': 9.9963611766897014},\n",
       "  {'source': 44, 'target': 73, 'value': 9.9963218446234023},\n",
       "  {'source': 44, 'target': 75, 'value': 9.9963315317640582},\n",
       "  {'source': 44, 'target': 76, 'value': 9.9977902886003136},\n",
       "  {'source': 44, 'target': 77, 'value': 9.996319962288112},\n",
       "  {'source': 44, 'target': 78, 'value': 9.9963415753498808},\n",
       "  {'source': 44, 'target': 80, 'value': 9.9962780259069834},\n",
       "  {'source': 44, 'target': 82, 'value': 9.9964612579990728},\n",
       "  {'source': 44, 'target': 85, 'value': 9.997627430645597},\n",
       "  {'source': 44, 'target': 86, 'value': 9.9976455598913709},\n",
       "  {'source': 44, 'target': 88, 'value': 9.9964110662804568},\n",
       "  {'source': 44, 'target': 89, 'value': 9.9965100150986803},\n",
       "  {'source': 44, 'target': 90, 'value': 9.9973260334542218},\n",
       "  {'source': 44, 'target': 91, 'value': 9.998311254819809},\n",
       "  {'source': 44, 'target': 92, 'value': 9.9963270942241049},\n",
       "  {'source': 44, 'target': 93, 'value': 9.9970277164504022},\n",
       "  {'source': 44, 'target': 94, 'value': 9.9963002550542672},\n",
       "  {'source': 44, 'target': 95, 'value': 9.9964807081043983},\n",
       "  {'source': 44, 'target': 96, 'value': 9.9976269000690028},\n",
       "  {'source': 44, 'target': 97, 'value': 9.9963230345261191},\n",
       "  {'source': 44, 'target': 98, 'value': 9.9972198210404599},\n",
       "  {'source': 44, 'target': 99, 'value': 9.9963793627395674},\n",
       "  {'source': 45, 'target': 50, 'value': 9.5749037838439648},\n",
       "  {'source': 45, 'target': 54, 'value': 9.6992826427637233},\n",
       "  {'source': 45, 'target': 56, 'value': 9.9554173111885778},\n",
       "  {'source': 45, 'target': 59, 'value': 9.9983898029162717},\n",
       "  {'source': 49, 'target': 76, 'value': 9.5143533162518619},\n",
       "  {'source': 49, 'target': 91, 'value': 9.617224959043881},\n",
       "  {'source': 50, 'target': 53, 'value': 9.59117688114247},\n",
       "  {'source': 50, 'target': 55, 'value': 9.6158351414289349},\n",
       "  {'source': 50, 'target': 58, 'value': 9.6017763199411252},\n",
       "  {'source': 50, 'target': 60, 'value': 9.5766985715016126},\n",
       "  {'source': 50, 'target': 61, 'value': 9.5869126087717333},\n",
       "  {'source': 50, 'target': 64, 'value': 9.580856180897241},\n",
       "  {'source': 50, 'target': 67, 'value': 9.5988542732271078},\n",
       "  {'source': 50, 'target': 68, 'value': 9.5691255524435075},\n",
       "  {'source': 50, 'target': 69, 'value': 9.6675989629599872},\n",
       "  {'source': 50, 'target': 70, 'value': 9.6572144126404726},\n",
       "  {'source': 50, 'target': 71, 'value': 9.6061295079840381},\n",
       "  {'source': 50, 'target': 72, 'value': 9.6681173637346376},\n",
       "  {'source': 50, 'target': 73, 'value': 9.6211889621086701},\n",
       "  {'source': 50, 'target': 75, 'value': 9.6571497775126609},\n",
       "  {'source': 50, 'target': 76, 'value': 9.6225255011691839},\n",
       "  {'source': 50, 'target': 77, 'value': 9.6521761783128639},\n",
       "  {'source': 50, 'target': 78, 'value': 9.6600238663402607},\n",
       "  {'source': 50, 'target': 80, 'value': 9.6128899811323549},\n",
       "  {'source': 50, 'target': 82, 'value': 9.5803846324476876},\n",
       "  {'source': 50, 'target': 85, 'value': 9.6040947707686239},\n",
       "  {'source': 50, 'target': 86, 'value': 9.6104906749004329},\n",
       "  {'source': 50, 'target': 88, 'value': 9.6213530839038608},\n",
       "  {'source': 50, 'target': 89, 'value': 9.5787780659649737},\n",
       "  {'source': 50, 'target': 90, 'value': 9.5869190433751967},\n",
       "  {'source': 50, 'target': 91, 'value': 9.6550569235748878},\n",
       "  {'source': 50, 'target': 92, 'value': 9.6209265638564805},\n",
       "  {'source': 50, 'target': 93, 'value': 9.5751743596147758},\n",
       "  {'source': 50, 'target': 94, 'value': 9.6074688025513417},\n",
       "  {'source': 50, 'target': 95, 'value': 9.5736777849099184},\n",
       "  {'source': 50, 'target': 96, 'value': 9.606089960661814},\n",
       "  {'source': 50, 'target': 97, 'value': 9.5929678669639866},\n",
       "  {'source': 50, 'target': 98, 'value': 9.5847337713538039},\n",
       "  {'source': 50, 'target': 99, 'value': 9.6537609377876059},\n",
       "  {'source': 53, 'target': 54, 'value': 9.6608304291343341},\n",
       "  {'source': 53, 'target': 56, 'value': 9.9637482663020656},\n",
       "  {'source': 53, 'target': 59, 'value': 9.9975986857200922},\n",
       "  {'source': 54, 'target': 55, 'value': 9.7961620780089191},\n",
       "  {'source': 54, 'target': 58, 'value': 9.7673514934729884},\n",
       "  {'source': 54, 'target': 60, 'value': 9.666716131716953},\n",
       "  {'source': 54, 'target': 61, 'value': 9.6633630615981936},\n",
       "  {'source': 54, 'target': 64, 'value': 9.7333268600712088},\n",
       "  {'source': 54, 'target': 67, 'value': 9.769366875277175},\n",
       "  {'source': 54, 'target': 68, 'value': 9.7012221849905451},\n",
       "  {'source': 54, 'target': 69, 'value': 9.8434857362799555},\n",
       "  {'source': 54, 'target': 70, 'value': 9.826898191732127},\n",
       "  {'source': 54, 'target': 71, 'value': 9.7676371801571182},\n",
       "  {'source': 54, 'target': 72, 'value': 9.841990365435958},\n",
       "  {'source': 54, 'target': 73, 'value': 9.7708023195915565},\n",
       "  {'source': 54, 'target': 75, 'value': 9.8323389216819024},\n",
       "  {'source': 54, 'target': 76, 'value': 9.6516281892817695},\n",
       "  {'source': 54, 'target': 77, 'value': 9.8262878877226463},\n",
       "  {'source': 54, 'target': 78, 'value': 9.8399731566406725},\n",
       "  {'source': 54, 'target': 80, 'value': 9.7777538372569275},\n",
       "  {'source': 54, 'target': 82, 'value': 9.7389913405362165},\n",
       "  {'source': 54, 'target': 85, 'value': 9.6581615087640778},\n",
       "  {'source': 54, 'target': 86, 'value': 9.6523551621671029},\n",
       "  {'source': 54, 'target': 88, 'value': 9.8082971359384015},\n",
       "  {'source': 54, 'target': 89, 'value': 9.7351826040315288},\n",
       "  {'source': 54, 'target': 90, 'value': 9.6641359657155164},\n",
       "  {'source': 54, 'target': 91, 'value': 9.6597100285370043},\n",
       "  {'source': 54, 'target': 92, 'value': 9.8036762921794622},\n",
       "  {'source': 54, 'target': 93, 'value': 9.683311529915887},\n",
       "  {'source': 54, 'target': 94, 'value': 9.7811963079215545},\n",
       "  {'source': 54, 'target': 95, 'value': 9.7190333344071327},\n",
       "  {'source': 54, 'target': 96, 'value': 9.6547948950930298},\n",
       "  {'source': 54, 'target': 97, 'value': 9.7573271077083383},\n",
       "  {'source': 54, 'target': 98, 'value': 9.6598963522943286},\n",
       "  {'source': 54, 'target': 99, 'value': 9.8448353504807642},\n",
       "  {'source': 55, 'target': 56, 'value': 9.9507797802698068},\n",
       "  {'source': 55, 'target': 59, 'value': 9.9994356799176387},\n",
       "  {'source': 56, 'target': 58, 'value': 9.9517739579980766},\n",
       "  {'source': 56, 'target': 60, 'value': 9.9600901986524413},\n",
       "  {'source': 56, 'target': 61, 'value': 9.9625716985977046},\n",
       "  {'source': 56, 'target': 64, 'value': 9.9521260909892817},\n",
       "  {'source': 56, 'target': 67, 'value': 9.9509455546397216},\n",
       "  {'source': 56, 'target': 68, 'value': 9.9540495037482266},\n",
       "  {'source': 56, 'target': 69, 'value': 9.9547504049192206},\n",
       "  {'source': 56, 'target': 70, 'value': 9.9548737845044286},\n",
       "  {'source': 56, 'target': 71, 'value': 9.9525866863459669},\n",
       "  {'source': 56, 'target': 72, 'value': 9.9550466041851777},\n",
       "  {'source': 56, 'target': 73, 'value': 9.9551253827398316},\n",
       "  {'source': 56, 'target': 75, 'value': 9.9541528246447015},\n",
       "  {'source': 56, 'target': 76, 'value': 9.9711405981347525},\n",
       "  {'source': 56, 'target': 77, 'value': 9.9539656142138924},\n",
       "  {'source': 56, 'target': 78, 'value': 9.9537234013429092},\n",
       "  {'source': 56, 'target': 80, 'value': 9.9525912495666962},\n",
       "  {'source': 56, 'target': 82, 'value': 9.9513101874855536},\n",
       "  {'source': 56, 'target': 85, 'value': 9.9666597106853434},\n",
       "  {'source': 56, 'target': 86, 'value': 9.9686684324405412},\n",
       "  {'source': 56, 'target': 88, 'value': 9.950295720254223},\n",
       "  {'source': 56, 'target': 89, 'value': 9.9514999164538231},\n",
       "  {'source': 56, 'target': 90, 'value': 9.9624730371846155},\n",
       "  {'source': 56, 'target': 91, 'value': 9.9765385971942315},\n",
       "  {'source': 56, 'target': 92, 'value': 9.9507989492965567},\n",
       "  {'source': 56, 'target': 93, 'value': 9.9576315047697257},\n",
       "  {'source': 56, 'target': 94, 'value': 9.9510874974171344},\n",
       "  {'source': 56, 'target': 95, 'value': 9.9525984054305088},\n",
       "  {'source': 56, 'target': 96, 'value': 9.9674875720051208},\n",
       "  {'source': 56, 'target': 97, 'value': 9.9513613456134138},\n",
       "  {'source': 56, 'target': 98, 'value': 9.9625790309419333},\n",
       "  {'source': 56, 'target': 99, 'value': 9.9518731001174441},\n",
       "  {'source': 57, 'target': 76, 'value': 9.5340419103609637},\n",
       "  {'source': 57, 'target': 86, 'value': 9.5018849777404419},\n",
       "  {'source': 57, 'target': 91, 'value': 9.6263957124958743},\n",
       "  {'source': 58, 'target': 59, 'value': 9.999176671436766},\n",
       "  {'source': 59, 'target': 60, 'value': 9.9978240503541826},\n",
       "  {'source': 59, 'target': 61, 'value': 9.9976544747510303},\n",
       "  {'source': 59, 'target': 64, 'value': 9.9987792063619061},\n",
       "  {'source': 59, 'target': 67, 'value': 9.9991663435564657},\n",
       "  {'source': 59, 'target': 68, 'value': 9.9983377008281824},\n",
       "  {'source': 59, 'target': 69, 'value': 9.9999531892298563},\n",
       "  {'source': 59, 'target': 70, 'value': 9.9998016831851508},\n",
       "  {'source': 59, 'target': 71, 'value': 9.9991962630285887},\n",
       "  {'source': 59, 'target': 72, 'value': 9.9999413914638087},\n",
       "  {'source': 59, 'target': 73, 'value': 9.9992449828840595},\n",
       "  {'source': 59, 'target': 75, 'value': 9.99984788298155},\n",
       "  {'source': 59, 'target': 76, 'value': 9.9973804376130175},\n",
       "  {'source': 59, 'target': 77, 'value': 9.9997907407888018},\n",
       "  {'source': 59, 'target': 78, 'value': 9.9999124198067086},\n",
       "  {'source': 59, 'target': 80, 'value': 9.9993030372036724},\n",
       "  {'source': 59, 'target': 82, 'value': 9.9987770423519642},\n",
       "  {'source': 59, 'target': 85, 'value': 9.9974773374723966},\n",
       "  {'source': 59, 'target': 86, 'value': 9.9974385548357763},\n",
       "  {'source': 59, 'target': 88, 'value': 9.9994949935871933},\n",
       "  {'source': 59, 'target': 89, 'value': 9.9987113113160913},\n",
       "  {'source': 59, 'target': 90, 'value': 9.9976585705680083},\n",
       "  {'source': 59, 'target': 91, 'value': 9.9972252225292184},\n",
       "  {'source': 59, 'target': 92, 'value': 9.9995077456806012},\n",
       "  {'source': 59, 'target': 93, 'value': 9.9979615751688957},\n",
       "  {'source': 59, 'target': 94, 'value': 9.9993008270749932},\n",
       "  {'source': 59, 'target': 95, 'value': 9.9985827216975824},\n",
       "  {'source': 59, 'target': 96, 'value': 9.9974564147342786},\n",
       "  {'source': 59, 'target': 97, 'value': 9.999048998637349},\n",
       "  {'source': 59, 'target': 98, 'value': 9.9976827165783266},\n",
       "  {'source': 59, 'target': 99, 'value': 9.9999096180348914},\n",
       "  {'source': 69, 'target': 87, 'value': 9.6293786431869357},\n",
       "  {'source': 70, 'target': 87, 'value': 9.5833223591310652},\n",
       "  {'source': 72, 'target': 87, 'value': 9.6262750610122829},\n",
       "  {'source': 75, 'target': 87, 'value': 9.5960580795050348},\n",
       "  {'source': 77, 'target': 87, 'value': 9.5783531653145975},\n",
       "  {'source': 78, 'target': 87, 'value': 9.6155003450094725},\n",
       "  {'source': 87, 'target': 99, 'value': 9.6174051147674415}],\n",
       " 'nodes': [{'group': 1, 'name': 'Timber Tract Operations'},\n",
       "  {'group': 4, 'name': 'Timber Tract Operations'},\n",
       "  {'group': 1, 'name': 'Timber Tract Operations'},\n",
       "  {'group': 4, 'name': 'Forest Nurseries and Gathering of Forest Products'},\n",
       "  {'group': 3, 'name': 'Forest Nurseries and Gathering of Forest Products'},\n",
       "  {'group': 1, 'name': 'Forest Nurseries and Gathering of Forest Products'},\n",
       "  {'group': 2, 'name': 'Logging'},\n",
       "  {'group': 3, 'name': 'Logging'},\n",
       "  {'group': 3, 'name': 'Logging'},\n",
       "  {'group': 1, 'name': 'Fishing'},\n",
       "  {'group': 3, 'name': 'Fishing'},\n",
       "  {'group': 3, 'name': 'Finfish Fishing'},\n",
       "  {'group': 4, 'name': 'Shellfish Fishing'},\n",
       "  {'group': 1, 'name': 'Other Marine Fishing'},\n",
       "  {'group': 3, 'name': 'Hunting and Trapping'},\n",
       "  {'group': 2, 'name': 'Hunting and Trapping'},\n",
       "  {'group': 3, 'name': 'Support Activities for Crop Production'},\n",
       "  {'group': 3, 'name': 'Support Activities for Crop Production'},\n",
       "  {'group': 4, 'name': 'Cotton Ginning'},\n",
       "  {'group': 3, 'name': 'Soil Preparation, Planting, and Cultivating'},\n",
       "  {'group': 2, 'name': 'Crop Harvesting, Primarily by Machine'},\n",
       "  {'group': 4, 'name': 'Postharvest Crop Activities (except Cotton Ginning)'},\n",
       "  {'group': 4, 'name': 'Farm Labor Contractors and Crew Leaders'},\n",
       "  {'group': 2, 'name': 'Farm Management Services'},\n",
       "  {'group': 2, 'name': 'Support Activities for Animal Production'},\n",
       "  {'group': 4, 'name': 'Support Activities for Animal Production'},\n",
       "  {'group': 3, 'name': 'Support Activities for Animal Production'},\n",
       "  {'group': 1, 'name': 'Support Activities for Forestry'},\n",
       "  {'group': 2, 'name': 'Support Activities for Forestry'},\n",
       "  {'group': 3, 'name': 'Support Activities for Forestry'},\n",
       "  {'group': 3, 'name': 'Oil and Gas Extraction'},\n",
       "  {'group': 3, 'name': 'Oil and Gas Extraction'},\n",
       "  {'group': 1, 'name': 'Crude Petroleum and Natural Gas Extraction'},\n",
       "  {'group': 1, 'name': 'Natural Gas Liquid Extraction'},\n",
       "  {'group': 4, 'name': 'Coal Mining'},\n",
       "  {'group': 1, 'name': 'Coal Mining'},\n",
       "  {'group': 2, 'name': 'Bituminous Coal and Lignite Surface Mining'},\n",
       "  {'group': 2, 'name': 'Bituminous Coal Underground Mining'},\n",
       "  {'group': 4, 'name': 'Metal Ore Mining'},\n",
       "  {'group': 2, 'name': 'Gold Ore and Silver Ore Mining'},\n",
       "  {'group': 1, 'name': 'Gold Ore Mining'},\n",
       "  {'group': 3, 'name': 'Silver Ore Mining'},\n",
       "  {'group': 1, 'name': 'Copper, Nickel, Lead, and Zinc Mining'},\n",
       "  {'group': 4, 'name': 'Copper Ore and Nickel Ore Mining'},\n",
       "  {'group': 2, 'name': 'Other Metal Ore Mining'},\n",
       "  {'group': 3, 'name': 'All Other Metal Ore Mining'},\n",
       "  {'group': 4, 'name': 'Nonmetallic Mineral Mining and Quarrying'},\n",
       "  {'group': 4, 'name': 'Stone Mining and Quarrying'},\n",
       "  {'group': 4, 'name': 'Dimension Stone Mining and Quarrying'},\n",
       "  {'group': 2, 'name': 'Crushed and Broken Limestone Mining and Quarrying'},\n",
       "  {'group': 1, 'name': 'Crushed and Broken Granite Mining and Quarrying'},\n",
       "  {'group': 1, 'name': 'Other Crushed and Broken Stone Mining and Quarrying'},\n",
       "  {'group': 3,\n",
       "   'name': 'Sand, Gravel, Clay, and Ceramic and Refractory Minerals Mining and Quarrying'},\n",
       "  {'group': 1, 'name': 'Construction Sand and Gravel Mining'},\n",
       "  {'group': 1, 'name': 'Industrial Sand Mining'},\n",
       "  {'group': 4, 'name': 'Kaolin and Ball Clay Mining'},\n",
       "  {'group': 2, 'name': 'Clay and Ceramic and Refractory Minerals Mining'},\n",
       "  {'group': 3, 'name': 'Other Nonmetallic Mineral Mining and Quarrying'},\n",
       "  {'group': 2, 'name': 'Potash, Soda, and Borate Mineral Mining'},\n",
       "  {'group': 2, 'name': 'Phosphate Rock Mining'},\n",
       "  {'group': 3, 'name': 'Other Chemical and Fertilizer Mineral Mining'},\n",
       "  {'group': 3, 'name': 'All Other Nonmetallic Mineral Mining'},\n",
       "  {'group': 2, 'name': 'Support Activities for Mining'},\n",
       "  {'group': 4, 'name': 'Support Activities for Mining'},\n",
       "  {'group': 1, 'name': 'Drilling Oil and Gas Wells'},\n",
       "  {'group': 3, 'name': 'Support Activities for Oil and Gas Operations'},\n",
       "  {'group': 1, 'name': 'Support Activities for Coal Mining'},\n",
       "  {'group': 1, 'name': 'Support Activities for Metal Mining'},\n",
       "  {'group': 3,\n",
       "   'name': 'Support Activities for Nonmetallic Minerals (except Fuels) Mining'},\n",
       "  {'group': 1,\n",
       "   'name': 'Electric Power Generation, Transmission and Distribution'},\n",
       "  {'group': 4, 'name': 'Electric Power Generation'},\n",
       "  {'group': 1, 'name': 'Hydroelectric Power Generation'},\n",
       "  {'group': 1, 'name': 'Fossil Fuel Electric Power Generation'},\n",
       "  {'group': 3, 'name': 'Nuclear Electric Power Generation'},\n",
       "  {'group': 4, 'name': 'Other Electric Power Generation'},\n",
       "  {'group': 2,\n",
       "   'name': 'Electric Power Transmission, Control, and Distribution'},\n",
       "  {'group': 1, 'name': 'Electric Bulk Power Transmission and Control'},\n",
       "  {'group': 3, 'name': 'Electric Power Distribution'},\n",
       "  {'group': 2, 'name': 'Natural Gas Distribution'},\n",
       "  {'group': 2, 'name': 'Natural Gas Distribution'},\n",
       "  {'group': 1, 'name': 'Natural Gas Distribution'},\n",
       "  {'group': 2, 'name': 'Water, Sewage and Other Systems'},\n",
       "  {'group': 2, 'name': 'Water Supply and Irrigation Systems'},\n",
       "  {'group': 2, 'name': 'Water Supply and Irrigation Systems'},\n",
       "  {'group': 2, 'name': 'Sewage Treatment Facilities'},\n",
       "  {'group': 1, 'name': 'Sewage Treatment Facilities'},\n",
       "  {'group': 4, 'name': 'Steam and Air-Conditioning Supply'},\n",
       "  {'group': 1, 'name': 'Steam and Air-Conditioning Supply'},\n",
       "  {'group': 2, 'name': 'Residential Building Construction'},\n",
       "  {'group': 4, 'name': 'Residential Building Construction'},\n",
       "  {'group': 1,\n",
       "   'name': 'New Single-Family Housing Construction (except Operative Builders)'},\n",
       "  {'group': 3,\n",
       "   'name': 'New Multifamily Housing Construction (except Operative Builders)'},\n",
       "  {'group': 3, 'name': 'New Housing Operative Builders'},\n",
       "  {'group': 1, 'name': 'Residential Remodelers'},\n",
       "  {'group': 1, 'name': 'Nonresidential Building Construction'},\n",
       "  {'group': 2, 'name': 'Industrial Building Construction'},\n",
       "  {'group': 2, 'name': 'Industrial Building Construction'},\n",
       "  {'group': 4, 'name': 'Commercial and Institutional Building Construction'},\n",
       "  {'group': 4, 'name': 'Commercial and Institutional Building Construction'},\n",
       "  {'group': 1, 'name': 'Utility System Construction'}]}"
      ]
     },
     "execution_count": 238,
     "metadata": {},
     "output_type": "execute_result"
    }
   ],
   "source": [
    "ntnl_flsa_sim"
   ]
  },
  {
   "cell_type": "code",
   "execution_count": 139,
   "metadata": {
    "collapsed": false
   },
   "outputs": [],
   "source": [
    "# sim_ex1=json.dumps(ntnl_flsa_sim)"
   ]
  },
  {
   "cell_type": "code",
   "execution_count": 248,
   "metadata": {
    "collapsed": true
   },
   "outputs": [],
   "source": [
    "with open('sim_ex1.json','w') as f:\n",
    "    json.dump(ntnl_flsa_sim, f)"
   ]
  },
  {
   "cell_type": "code",
   "execution_count": 148,
   "metadata": {
    "collapsed": false
   },
   "outputs": [],
   "source": [
    "#ex1=json.dumps(links)"
   ]
  },
  {
   "cell_type": "code",
   "execution_count": 183,
   "metadata": {
    "collapsed": false
   },
   "outputs": [],
   "source": [
    "\n",
    "#write to csv for gephi\n",
    "#f = csv.writer(open(\"test_gephi.csv\", \"wb+\"))\n",
    "\n",
    "# Write CSV Header, If you dont need that, remove this line\n",
    "#f.writerow([\"source\", \"target\"])\n",
    "\n",
    "#for x in ex1:\n",
    "    #f.writerow([x[\"source\"], x[\"target\"]])"
   ]
  },
  {
   "cell_type": "code",
   "execution_count": 228,
   "metadata": {
    "collapsed": true
   },
   "outputs": [],
   "source": [
    "flsa_clusters = pd.read_csv('./../data/ntnl_flsa_clusters.csv')"
   ]
  },
  {
   "cell_type": "code",
   "execution_count": 233,
   "metadata": {
    "collapsed": false
   },
   "outputs": [
    {
     "data": {
      "text/html": [
       "<div>\n",
       "<table border=\"1\" class=\"dataframe\">\n",
       "  <thead>\n",
       "    <tr style=\"text-align: right;\">\n",
       "      <th></th>\n",
       "      <th>Unnamed: 0</th>\n",
       "      <th>index</th>\n",
       "      <th>naic_cd</th>\n",
       "      <th>naics_code_description</th>\n",
       "      <th>total_flsa_bw_atp_amt</th>\n",
       "      <th>total_flsa_ee_atp_cnt</th>\n",
       "      <th>total_observations</th>\n",
       "      <th>num_firms</th>\n",
       "      <th>num_establishments</th>\n",
       "      <th>num_employed</th>\n",
       "      <th>payroll</th>\n",
       "      <th>receipts</th>\n",
       "      <th>flsa_severity_idx</th>\n",
       "      <th>flsa_reported_rt</th>\n",
       "      <th>flsa_suscptbl_idx</th>\n",
       "      <th>cluster_assigned</th>\n",
       "      <th>cluster_assignment</th>\n",
       "    </tr>\n",
       "  </thead>\n",
       "  <tbody>\n",
       "    <tr>\n",
       "      <th>82</th>\n",
       "      <td>('314912', 'Canvas and Related Product Mills')</td>\n",
       "      <td>('314912', 'Canvas and Related Product Mills')</td>\n",
       "      <td>314912</td>\n",
       "      <td>Canvas and Related Product Mills</td>\n",
       "      <td>3334.33</td>\n",
       "      <td>0.5</td>\n",
       "      <td>6</td>\n",
       "      <td>5825</td>\n",
       "      <td>5885</td>\n",
       "      <td>65570</td>\n",
       "      <td>2134644</td>\n",
       "      <td>9523872</td>\n",
       "      <td>0.050851</td>\n",
       "      <td>0.091505</td>\n",
       "      <td>0.555722</td>\n",
       "      <td>NaN</td>\n",
       "      <td>2</td>\n",
       "    </tr>\n",
       "    <tr>\n",
       "      <th>995</th>\n",
       "      <td>('722213', 'Snack and Nonalcoholic Beverage Ba...</td>\n",
       "      <td>('722213', 'Snack and Nonalcoholic Beverage Ba...</td>\n",
       "      <td>722213</td>\n",
       "      <td>Snack and Nonalcoholic Beverage Bars</td>\n",
       "      <td>52.35</td>\n",
       "      <td>1.0</td>\n",
       "      <td>559</td>\n",
       "      <td>136333</td>\n",
       "      <td>168132</td>\n",
       "      <td>1232002</td>\n",
       "      <td>17061742</td>\n",
       "      <td>67099939</td>\n",
       "      <td>0.000042</td>\n",
       "      <td>0.453733</td>\n",
       "      <td>0.000094</td>\n",
       "      <td>NaN</td>\n",
       "      <td>2</td>\n",
       "    </tr>\n",
       "    <tr>\n",
       "      <th>194</th>\n",
       "      <td>('331112', 'Electrometallurgical Ferroalloy Pr...</td>\n",
       "      <td>('331112', 'Electrometallurgical Ferroalloy Pr...</td>\n",
       "      <td>331112</td>\n",
       "      <td>Electrometallurgical Ferroalloy Product Manufa...</td>\n",
       "      <td>31136.45</td>\n",
       "      <td>11.0</td>\n",
       "      <td>4</td>\n",
       "      <td>62</td>\n",
       "      <td>62</td>\n",
       "      <td>5098</td>\n",
       "      <td>295148</td>\n",
       "      <td>3420598</td>\n",
       "      <td>6.107581</td>\n",
       "      <td>0.784621</td>\n",
       "      <td>7.784112</td>\n",
       "      <td>NaN</td>\n",
       "      <td>3</td>\n",
       "    </tr>\n",
       "    <tr>\n",
       "      <th>765</th>\n",
       "      <td>('532490', 'Other Commercial and Industrial Ma...</td>\n",
       "      <td>('532490', 'Other Commercial and Industrial Ma...</td>\n",
       "      <td>532490</td>\n",
       "      <td>Other Commercial and Industrial Machinery and ...</td>\n",
       "      <td>3298.23</td>\n",
       "      <td>4.0</td>\n",
       "      <td>34</td>\n",
       "      <td>16943</td>\n",
       "      <td>23686</td>\n",
       "      <td>234336</td>\n",
       "      <td>10897490</td>\n",
       "      <td>48085848</td>\n",
       "      <td>0.014075</td>\n",
       "      <td>0.145091</td>\n",
       "      <td>0.097007</td>\n",
       "      <td>NaN</td>\n",
       "      <td>2</td>\n",
       "    </tr>\n",
       "    <tr>\n",
       "      <th>965</th>\n",
       "      <td>('71213', 'Zoos and Botanical Gardens')</td>\n",
       "      <td>('71213', 'Zoos and Botanical Gardens')</td>\n",
       "      <td>71213</td>\n",
       "      <td>Zoos and Botanical Gardens</td>\n",
       "      <td>10239.02</td>\n",
       "      <td>5.0</td>\n",
       "      <td>2</td>\n",
       "      <td>2119</td>\n",
       "      <td>2162</td>\n",
       "      <td>78853</td>\n",
       "      <td>2189399</td>\n",
       "      <td>7218874</td>\n",
       "      <td>0.129849</td>\n",
       "      <td>0.025364</td>\n",
       "      <td>5.119510</td>\n",
       "      <td>NaN</td>\n",
       "      <td>2</td>\n",
       "    </tr>\n",
       "  </tbody>\n",
       "</table>\n",
       "</div>"
      ],
      "text/plain": [
       "                                            Unnamed: 0  \\\n",
       "82      ('314912', 'Canvas and Related Product Mills')   \n",
       "995  ('722213', 'Snack and Nonalcoholic Beverage Ba...   \n",
       "194  ('331112', 'Electrometallurgical Ferroalloy Pr...   \n",
       "765  ('532490', 'Other Commercial and Industrial Ma...   \n",
       "965            ('71213', 'Zoos and Botanical Gardens')   \n",
       "\n",
       "                                                 index naic_cd  \\\n",
       "82      ('314912', 'Canvas and Related Product Mills')  314912   \n",
       "995  ('722213', 'Snack and Nonalcoholic Beverage Ba...  722213   \n",
       "194  ('331112', 'Electrometallurgical Ferroalloy Pr...  331112   \n",
       "765  ('532490', 'Other Commercial and Industrial Ma...  532490   \n",
       "965            ('71213', 'Zoos and Botanical Gardens')   71213   \n",
       "\n",
       "                                naics_code_description  total_flsa_bw_atp_amt  \\\n",
       "82                    Canvas and Related Product Mills                3334.33   \n",
       "995               Snack and Nonalcoholic Beverage Bars                  52.35   \n",
       "194  Electrometallurgical Ferroalloy Product Manufa...               31136.45   \n",
       "765  Other Commercial and Industrial Machinery and ...                3298.23   \n",
       "965                         Zoos and Botanical Gardens               10239.02   \n",
       "\n",
       "     total_flsa_ee_atp_cnt  total_observations  num_firms  num_establishments  \\\n",
       "82                     0.5                   6       5825                5885   \n",
       "995                    1.0                 559     136333              168132   \n",
       "194                   11.0                   4         62                  62   \n",
       "765                    4.0                  34      16943               23686   \n",
       "965                    5.0                   2       2119                2162   \n",
       "\n",
       "     num_employed   payroll  receipts  flsa_severity_idx  flsa_reported_rt  \\\n",
       "82          65570   2134644   9523872           0.050851          0.091505   \n",
       "995       1232002  17061742  67099939           0.000042          0.453733   \n",
       "194          5098    295148   3420598           6.107581          0.784621   \n",
       "765        234336  10897490  48085848           0.014075          0.145091   \n",
       "965         78853   2189399   7218874           0.129849          0.025364   \n",
       "\n",
       "     flsa_suscptbl_idx  cluster_assigned  cluster_assignment  \n",
       "82            0.555722               NaN                   2  \n",
       "995           0.000094               NaN                   2  \n",
       "194           7.784112               NaN                   3  \n",
       "765           0.097007               NaN                   2  \n",
       "965           5.119510               NaN                   2  "
      ]
     },
     "execution_count": 233,
     "metadata": {},
     "output_type": "execute_result"
    }
   ],
   "source": [
    "flsa_clusters.sample(5)"
   ]
  },
  {
   "cell_type": "code",
   "execution_count": 249,
   "metadata": {
    "collapsed": false
   },
   "outputs": [
    {
     "data": {
      "text/plain": [
       "(1959, 1959)"
      ]
     },
     "execution_count": 249,
     "metadata": {},
     "output_type": "execute_result"
    }
   ],
   "source": [
    "sq_distMat.shape"
   ]
  },
  {
   "cell_type": "code",
   "execution_count": 261,
   "metadata": {
    "collapsed": true
   },
   "outputs": [],
   "source": [
    "from scipy import cluster"
   ]
  },
  {
   "cell_type": "code",
   "execution_count": 270,
   "metadata": {
    "collapsed": false
   },
   "outputs": [],
   "source": [
    "res=cluster.vq.kmeans(sq_distMat, 4)"
   ]
  },
  {
   "cell_type": "code",
   "execution_count": 276,
   "metadata": {
    "collapsed": false
   },
   "outputs": [],
   "source": [
    "cent, var = res"
   ]
  },
  {
   "cell_type": "code",
   "execution_count": 278,
   "metadata": {
    "collapsed": false
   },
   "outputs": [
    {
     "data": {
      "text/plain": [
       "4.2496546718085657"
      ]
     },
     "execution_count": 278,
     "metadata": {},
     "output_type": "execute_result"
    }
   ],
   "source": [
    "var"
   ]
  },
  {
   "cell_type": "code",
   "execution_count": 279,
   "metadata": {
    "collapsed": false
   },
   "outputs": [
    {
     "data": {
      "text/plain": [
       "[<matplotlib.lines.Line2D at 0x125c0ff50>]"
      ]
     },
     "execution_count": 279,
     "metadata": {},
     "output_type": "execute_result"
    },
    {
     "data": {
      "image/png": "[encoded data removed]",
      "text/plain": [
       "<matplotlib.figure.Figure at 0x130752b10>"
      ]
     },
     "metadata": {},
     "output_type": "display_data"
    }
   ],
   "source": [
    "plt.figure(figsize=(10,10))\n",
    "#cluster.vq.whiten()\n",
    "initial = [cluster.vq.kmeans(obs=sq_distMat, k_or_guess=i ) for i in range(2,10)]\n",
    "plt.plot([var for (cent,var) in initial])\n",
    "#plt.show()"
   ]
  },
  {
   "cell_type": "code",
   "execution_count": 267,
   "metadata": {
    "collapsed": false
   },
   "outputs": [],
   "source": [
    "cent, var = initial[4]"
   ]
  },
  {
   "cell_type": "code",
   "execution_count": 281,
   "metadata": {
    "collapsed": false
   },
   "outputs": [],
   "source": [
    "assignment,cdist = cluster.vq.vq(sq_distMat,cent)"
   ]
  },
  {
   "cell_type": "code",
   "execution_count": 287,
   "metadata": {
    "collapsed": false
   },
   "outputs": [
    {
     "data": {
      "text/plain": [
       "{0, 1, 2, 3, 4, 5, 6, 7, 8}"
      ]
     },
     "execution_count": 287,
     "metadata": {},
     "output_type": "execute_result"
    }
   ],
   "source": [
    "set(assignment)"
   ]
  },
  {
   "cell_type": "code",
   "execution_count": null,
   "metadata": {
    "collapsed": true
   },
   "outputs": [],
   "source": []
  },
  {
   "cell_type": "code",
   "execution_count": 288,
   "metadata": {
    "collapsed": true
   },
   "outputs": [],
   "source": [
    "##DBSCAN\n",
    "from sklearn.cluster import DBSCAN"
   ]
  },
  {
   "cell_type": "code",
   "execution_count": 350,
   "metadata": {
    "collapsed": true
   },
   "outputs": [],
   "source": [
    "dbscan=DBSCAN(0.001, min_samples=5, metric='precomputed')"
   ]
  },
  {
   "cell_type": "code",
   "execution_count": 351,
   "metadata": {
    "collapsed": false
   },
   "outputs": [
    {
     "data": {
      "text/plain": [
       "DBSCAN(algorithm='auto', eps=0.001, leaf_size=30, metric='precomputed',\n",
       "    min_samples=5, p=None, random_state=None)"
      ]
     },
     "execution_count": 351,
     "metadata": {},
     "output_type": "execute_result"
    }
   ],
   "source": [
    "dbscan.fit(sq_distMat)"
   ]
  },
  {
   "cell_type": "code",
   "execution_count": 352,
   "metadata": {
    "collapsed": false
   },
   "outputs": [
    {
     "data": {
      "text/plain": [
       "(array([ 1060.,   700.,    61.,    32.,    18.,    14.,    12.,    17.,\n",
       "           28.,    17.]),\n",
       " array([ -1. ,   1.1,   3.2,   5.3,   7.4,   9.5,  11.6,  13.7,  15.8,\n",
       "         17.9,  20. ]),\n",
       " <a list of 10 Patch objects>)"
      ]
     },
     "execution_count": 352,
     "metadata": {},
     "output_type": "execute_result"
    },
    {
     "data": {
      "image/png": "[encoded data removed]",
      "text/plain": [
       "<matplotlib.figure.Figure at 0x129b70c90>"
      ]
     },
     "metadata": {},
     "output_type": "display_data"
    }
   ],
   "source": [
    "plt.hist(dbscan.labels_)"
   ]
  },
  {
   "cell_type": "code",
   "execution_count": 354,
   "metadata": {
    "collapsed": false
   },
   "outputs": [
    {
     "data": {
      "text/plain": [
       "(1959,)"
      ]
     },
     "execution_count": 354,
     "metadata": {},
     "output_type": "execute_result"
    }
   ],
   "source": [
    "dbscan.labels_.shape"
   ]
  },
  {
   "cell_type": "code",
   "execution_count": null,
   "metadata": {
    "collapsed": true
   },
   "outputs": [],
   "source": []
  }
 ],
 "metadata": {
  "kernelspec": {
   "display_name": "Python 2",
   "language": "python",
   "name": "python2"
  },
  "language_info": {
   "codemirror_mode": {
    "name": "ipython",
    "version": 2
   },
   "file_extension": ".py",
   "mimetype": "text/x-python",
   "name": "python",
   "nbconvert_exporter": "python",
   "pygments_lexer": "ipython2",
   "version": "2.7.11"
  }
 },
 "nbformat": 4,
 "nbformat_minor": 0
}
