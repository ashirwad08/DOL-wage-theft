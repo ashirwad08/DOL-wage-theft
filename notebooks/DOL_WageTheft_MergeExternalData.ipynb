{
 "cells": [
  {
   "cell_type": "markdown",
   "metadata": {},
   "source": [
    "# Bias in Known Dataset\n",
    "\n",
    "We haven't yet merged any external data sources. So we'll try to get a sense of bias by comparing *severity* of violations to number of cases investigated. Given the dataset we have, we're able to use the features to measure *severity* of a violation as:  \n",
    "\n",
    "> Violation Severity = Backwages Owed / Num. Employees Affected  "
   ]
  },
  {
   "cell_type": "code",
   "execution_count": 2,
   "metadata": {
    "collapsed": false
   },
   "outputs": [],
   "source": [
    "import pandas as pd\n",
    "import numpy as np\n",
    "#import zipfile\n",
    "#import requests\n",
    "#import StringIO\n",
    "import matplotlib.pyplot as plt\n",
    "import seaborn as sbrn\n",
    "import whd_utilities as whduts #my own python script for accompanying utility functions"
   ]
  },
  {
   "cell_type": "code",
   "execution_count": 9,
   "metadata": {
    "collapsed": true
   },
   "outputs": [],
   "source": [
    "whd_grps = pd.read_csv('./../data/whd_groupedViolations.csv', low_memory=False)"
   ]
  },
  {
   "cell_type": "code",
   "execution_count": 10,
   "metadata": {
    "collapsed": false
   },
   "outputs": [],
   "source": [
    "whd_grps.drop('Unnamed: 0',axis=1,inplace=True) #wonky column"
   ]
  },
  {
   "cell_type": "code",
   "execution_count": 18,
   "metadata": {
    "collapsed": false
   },
   "outputs": [
    {
     "data": {
      "text/html": [
       "<div>\n",
       "<table border=\"1\" class=\"dataframe\">\n",
       "  <thead>\n",
       "    <tr style=\"text-align: right;\">\n",
       "      <th></th>\n",
       "      <th>trade_nm</th>\n",
       "      <th>cty_nm</th>\n",
       "      <th>zip_cd</th>\n",
       "      <th>st_cd</th>\n",
       "      <th>naic_cd</th>\n",
       "      <th>naics_code_description</th>\n",
       "      <th>case_violtn_cnt</th>\n",
       "      <th>cmp_assd_cnt</th>\n",
       "      <th>ee_violtd_cnt</th>\n",
       "      <th>ee_atp_cnt</th>\n",
       "      <th>MinWage_ATPAmt</th>\n",
       "      <th>BelowMinWage_Cases</th>\n",
       "      <th>BelowMinWage_ATPAmt</th>\n",
       "      <th>MinWage_Cases</th>\n",
       "      <th>BelowMinWage_EmpAff</th>\n",
       "      <th>MinWage_EmpAff</th>\n",
       "      <th>All_AtpAmt</th>\n",
       "      <th>Other_Cases</th>\n",
       "      <th>Other_ATPAmt</th>\n",
       "      <th>Other_EmpAff</th>\n",
       "      <th>is_violator</th>\n",
       "      <th>MW_vltn_severity</th>\n",
       "      <th>BMW_vltn_severity</th>\n",
       "      <th>All_vltn_severity</th>\n",
       "      <th>Other_vltn_severity</th>\n",
       "    </tr>\n",
       "  </thead>\n",
       "  <tbody>\n",
       "    <tr>\n",
       "      <th>0</th>\n",
       "      <td>Anid Care Home</td>\n",
       "      <td>Ionia</td>\n",
       "      <td>48846.0</td>\n",
       "      <td>MI</td>\n",
       "      <td>623990</td>\n",
       "      <td>Other Residential Care Facilities</td>\n",
       "      <td>3</td>\n",
       "      <td>0.0</td>\n",
       "      <td>1</td>\n",
       "      <td>0</td>\n",
       "      <td>0.00</td>\n",
       "      <td>0</td>\n",
       "      <td>0.0</td>\n",
       "      <td>3</td>\n",
       "      <td>0</td>\n",
       "      <td>0</td>\n",
       "      <td>0.00</td>\n",
       "      <td>0</td>\n",
       "      <td>0.00</td>\n",
       "      <td>1</td>\n",
       "      <td>1</td>\n",
       "      <td>NaN</td>\n",
       "      <td>NaN</td>\n",
       "      <td>NaN</td>\n",
       "      <td>0.000000</td>\n",
       "    </tr>\n",
       "    <tr>\n",
       "      <th>1</th>\n",
       "      <td>Eye Land Vision</td>\n",
       "      <td>Houston</td>\n",
       "      <td>77082.0</td>\n",
       "      <td>TX</td>\n",
       "      <td>446130</td>\n",
       "      <td>Optical Goods Stores</td>\n",
       "      <td>11</td>\n",
       "      <td>0.0</td>\n",
       "      <td>10</td>\n",
       "      <td>10</td>\n",
       "      <td>2407.62</td>\n",
       "      <td>0</td>\n",
       "      <td>0.0</td>\n",
       "      <td>11</td>\n",
       "      <td>0</td>\n",
       "      <td>10</td>\n",
       "      <td>7222.86</td>\n",
       "      <td>0</td>\n",
       "      <td>4815.24</td>\n",
       "      <td>0</td>\n",
       "      <td>1</td>\n",
       "      <td>240.762</td>\n",
       "      <td>NaN</td>\n",
       "      <td>722.286</td>\n",
       "      <td>inf</td>\n",
       "    </tr>\n",
       "    <tr>\n",
       "      <th>2</th>\n",
       "      <td>Bella Vita School (The)</td>\n",
       "      <td>Longmont</td>\n",
       "      <td>80501.0</td>\n",
       "      <td>CO</td>\n",
       "      <td>624410</td>\n",
       "      <td>Child Day Care Services</td>\n",
       "      <td>2</td>\n",
       "      <td>0.0</td>\n",
       "      <td>0</td>\n",
       "      <td>0</td>\n",
       "      <td>0.00</td>\n",
       "      <td>0</td>\n",
       "      <td>0.0</td>\n",
       "      <td>2</td>\n",
       "      <td>0</td>\n",
       "      <td>0</td>\n",
       "      <td>0.00</td>\n",
       "      <td>0</td>\n",
       "      <td>0.00</td>\n",
       "      <td>0</td>\n",
       "      <td>1</td>\n",
       "      <td>NaN</td>\n",
       "      <td>NaN</td>\n",
       "      <td>NaN</td>\n",
       "      <td>NaN</td>\n",
       "    </tr>\n",
       "  </tbody>\n",
       "</table>\n",
       "</div>"
      ],
      "text/plain": [
       "                  trade_nm    cty_nm   zip_cd st_cd naic_cd  \\\n",
       "0           Anid Care Home     Ionia  48846.0    MI  623990   \n",
       "1          Eye Land Vision   Houston  77082.0    TX  446130   \n",
       "2  Bella Vita School (The)  Longmont  80501.0    CO  624410   \n",
       "\n",
       "              naics_code_description  case_violtn_cnt  cmp_assd_cnt  \\\n",
       "0  Other Residential Care Facilities                3           0.0   \n",
       "1               Optical Goods Stores               11           0.0   \n",
       "2            Child Day Care Services                2           0.0   \n",
       "\n",
       "   ee_violtd_cnt  ee_atp_cnt  MinWage_ATPAmt  BelowMinWage_Cases  \\\n",
       "0              1           0            0.00                   0   \n",
       "1             10          10         2407.62                   0   \n",
       "2              0           0            0.00                   0   \n",
       "\n",
       "   BelowMinWage_ATPAmt  MinWage_Cases  BelowMinWage_EmpAff  MinWage_EmpAff  \\\n",
       "0                  0.0              3                    0               0   \n",
       "1                  0.0             11                    0              10   \n",
       "2                  0.0              2                    0               0   \n",
       "\n",
       "   All_AtpAmt  Other_Cases  Other_ATPAmt  Other_EmpAff  is_violator  \\\n",
       "0        0.00            0          0.00             1            1   \n",
       "1     7222.86            0       4815.24             0            1   \n",
       "2        0.00            0          0.00             0            1   \n",
       "\n",
       "   MW_vltn_severity  BMW_vltn_severity  All_vltn_severity  Other_vltn_severity  \n",
       "0               NaN                NaN                NaN             0.000000  \n",
       "1           240.762                NaN            722.286                  inf  \n",
       "2               NaN                NaN                NaN                  NaN  "
      ]
     },
     "execution_count": 18,
     "metadata": {},
     "output_type": "execute_result"
    }
   ],
   "source": [
    "pd.set_option('max_columns',109)\n",
    "whd_grps.head(3)"
   ]
  },
  {
   "cell_type": "code",
   "execution_count": 16,
   "metadata": {
    "collapsed": true
   },
   "outputs": [],
   "source": [
    "# Severity of various types of violations\n",
    "whd_grps['MW_vltn_severity'] = whd_grps['MinWage_ATPAmt'] / whd_grps['MinWage_EmpAff']\n",
    "whd_grps['BMW_vltn_severity'] = whd_grps['BelowMinWage_ATPAmt'] / whd_grps['BelowMinWage_EmpAff']\n",
    "whd_grps['All_vltn_severity'] = whd_grps['All_AtpAmt'] / whd_grps['ee_atp_cnt']\n",
    "whd_grps['Other_vltn_severity'] = whd_grps['Other_ATPAmt'] / whd_grps['Other_EmpAff']"
   ]
  },
  {
   "cell_type": "markdown",
   "metadata": {},
   "source": [
    "Let's see how this looks, when compared to the number of investigations taht the WHD conducted. The terminology is a bit confusing here because we don't want to use the *case_violtn_cnt* type metric, which often corresponds one to one to the number of employees affected. Instead, we'll want to treat each row with its own case id (removed from this dataset earlier) as an *investigated incident*.   \n",
    "\n",
    "In order to enable this, we'll need to count the number of *investigations* for the company in that city, zip, and state. Later, we will sum up our numbers to the MSA or State level."
   ]
  },
  {
   "cell_type": "code",
   "execution_count": 32,
   "metadata": {
    "collapsed": false
   },
   "outputs": [],
   "source": [
    "trade_vltn_cnts = pd.DataFrame(whd_grps.groupby(['cty_nm', 'zip_cd','trade_nm']).size(), columns=['num_investigations'])"
   ]
  },
  {
   "cell_type": "code",
   "execution_count": 35,
   "metadata": {
    "collapsed": false
   },
   "outputs": [],
   "source": [
    "whd_grps=whd_grps.merge(trade_vltn_cnts, how='inner',left_on=['cty_nm','zip_cd','trade_nm'], right_index=True, left_index=False)"
   ]
  },
  {
   "cell_type": "markdown",
   "metadata": {},
   "source": [
    "# Statististics of US Businesses\n",
    "\n",
    "What we need to understand backwages owed to the proportion of total employees affected. Now, while this number is nearly impossible to get at an individual company level, the Bureau of Labor Statistics does provide us with an industry code driven breakdown of total employees. We'll therefore have to repurpose our analysis at this level. \n",
    "\n",
    "The BLS "
   ]
  },
  {
   "cell_type": "code",
   "execution_count": null,
   "metadata": {
    "collapsed": true
   },
   "outputs": [],
   "source": []
  },
  {
   "cell_type": "code",
   "execution_count": null,
   "metadata": {
    "collapsed": true
   },
   "outputs": [],
   "source": []
  },
  {
   "cell_type": "code",
   "execution_count": null,
   "metadata": {
    "collapsed": true
   },
   "outputs": [],
   "source": []
  },
  {
   "cell_type": "code",
   "execution_count": null,
   "metadata": {
    "collapsed": true
   },
   "outputs": [],
   "source": []
  },
  {
   "cell_type": "code",
   "execution_count": null,
   "metadata": {
    "collapsed": true
   },
   "outputs": [],
   "source": []
  },
  {
   "cell_type": "code",
   "execution_count": 36,
   "metadata": {
    "collapsed": true
   },
   "outputs": [],
   "source": [
    "#Tableau...\n",
    "#top 50 \n",
    "whd_grps.to_csv('./../data/whd_groupedViolations.csv')"
   ]
  },
  {
   "cell_type": "code",
   "execution_count": null,
   "metadata": {
    "collapsed": true
   },
   "outputs": [],
   "source": []
  }
 ],
 "metadata": {
  "kernelspec": {
   "display_name": "Python 2",
   "language": "python",
   "name": "python2"
  },
  "language_info": {
   "codemirror_mode": {
    "name": "ipython",
    "version": 2
   },
   "file_extension": ".py",
   "mimetype": "text/x-python",
   "name": "python",
   "nbconvert_exporter": "python",
   "pygments_lexer": "ipython2",
   "version": "2.7.11"
  }
 },
 "nbformat": 4,
 "nbformat_minor": 0
}
